{
  "nbformat": 4,
  "nbformat_minor": 0,
  "metadata": {
    "colab": {
      "name": "Copy of blog.ipynb",
      "version": "0.3.2",
      "provenance": [],
      "collapsed_sections": []
    },
    "kernelspec": {
      "name": "python3",
      "display_name": "Python 3"
    }
  },
  "cells": [
    {
      "cell_type": "markdown",
      "metadata": {
        "id": "QL_k6ckRfq4H",
        "colab_type": "text"
      },
      "source": [
        "# Which programming language are you using in 2022?\n",
        "\n",
        "In this analysis, the following questions are answered:\n",
        "* Which programming languages are popular in 2022?\n",
        "* Who is already using the most popular languages from 2022?\n",
        "* Do programming languages start as a hobby language and get used by professionals later?\n",
        "Its results are described in a [blog post](https://medium.com/@maurits_94643/what-programming-language-do-you-use-in-2022-d083b2cafbd9).\n",
        "\n",
        "## Business understanding\n",
        "\n",
        "The goal of this analysis is to write a blog post. This post should provide answers to the three questions stated before. Adequate charts, tables or figures must be produced to support in communicating our findings.\n",
        "\n",
        "To answer these questions, data from the [Stack Overflow Annual Developer Survey](https://insights.stackoverflow.com/survey) is used, including historical data. These surveys seem to be adequate to answer our questions. Every year asks for the used languages and there are enough other questions to get an idea who is using a given language. The last 3 years ask respondents if they code as a hobby. This can be used to answer our third question.\n",
        "\n",
        "The analysis will be done in this Python notebook using the Pandas and Sklearn:"
      ]
    },
    {
      "cell_type": "code",
      "metadata": {
        "id": "eFJ1NI1CpQ5y",
        "colab_type": "code",
        "colab": {}
      },
      "source": [
        "from google.colab import drive\n",
        "import pandas as pd\n",
        "import numpy as np\n",
        "import seaborn as sns\n",
        "import matplotlib.pyplot as plt\n",
        "from sklearn.preprocessing import PolynomialFeatures\n",
        "from sklearn.linear_model import LinearRegression\n",
        "from sklearn.tree import DecisionTreeClassifier\n",
        "from sklearn.impute import SimpleImputer\n",
        "from sklearn import tree\n",
        "from sklearn.metrics import accuracy_score\n",
        "from scipy import stats\n"
      ],
      "execution_count": 0,
      "outputs": []
    },
    {
      "cell_type": "markdown",
      "metadata": {
        "id": "reK1oaOUGzyi",
        "colab_type": "text"
      },
      "source": [
        "## Data understanding\n",
        "\n",
        "Data can be downloaded from StackOverflow and loaded in Pandas dataframes."
      ]
    },
    {
      "cell_type": "code",
      "metadata": {
        "id": "_QxtEHxNpfCn",
        "colab_type": "code",
        "colab": {}
      },
      "source": [
        "root_path = './surveydata';"
      ],
      "execution_count": 0,
      "outputs": []
    },
    {
      "cell_type": "markdown",
      "metadata": {
        "id": "H_fZZhNNw0MI",
        "colab_type": "text"
      },
      "source": [
        "In the CSV's we can also see that the 2011-2015 data have the answer options on the second line. Therefore, skip the first line for these years."
      ]
    },
    {
      "cell_type": "code",
      "metadata": {
        "id": "aYfyHguGpXBn",
        "colab_type": "code",
        "outputId": "eab906d0-1eb4-4fb2-dd76-0a1f38958e7f",
        "colab": {
          "base_uri": "https://localhost:8080/",
          "height": 147
        }
      },
      "source": [
        "# Load all data and store them in a single hash indexed by year.\n",
        "df = {}\n",
        "df[2011] = pd.read_csv(root_path + '/2011.csv', encoding=\"ISO-8859-1\", skiprows=1, na_values=['NA', 'NaN'])\n",
        "df[2012] = pd.read_csv(root_path + '/2012.csv', encoding=\"ISO-8859-1\", skiprows=1, na_values=['NA', 'NaN'])\n",
        "df[2013] = pd.read_csv(root_path + '/2013.csv', encoding=\"ISO-8859-1\", skiprows=1, na_values=['NA', 'NaN'])\n",
        "df[2014] = pd.read_csv(root_path + '/2014.csv', encoding=\"ISO-8859-1\", skiprows=1, na_values=['NA', 'NaN'])\n",
        "df[2015] = pd.read_csv(root_path + '/2015.csv', encoding=\"ISO-8859-1\", skiprows=1, na_values=['NA', 'NaN'])\n",
        "df[2016] = pd.read_csv(root_path + '/2016.csv', encoding=\"ISO-8859-1\", skiprows=0, na_values=['NA', 'NaN'])\n",
        "df[2017] = pd.read_csv(root_path + '/2017.csv', encoding=\"ISO-8859-1\", skiprows=0, na_values=['NA', 'NaN'])\n",
        "df[2018] = pd.read_csv(root_path + '/2018.csv', encoding=\"ISO-8859-1\", skiprows=0, na_values=['NA', 'NaN'])\n",
        "df[2019] = pd.read_csv(root_path + '/2019.csv', encoding=\"ISO-8859-1\", skiprows=0, na_values=['NA', 'NaN'])"
      ],
      "execution_count": 0,
      "outputs": [
        {
          "output_type": "stream",
          "text": [
            "/usr/local/lib/python3.6/dist-packages/IPython/core/interactiveshell.py:2718: DtypeWarning: Columns (62) have mixed types. Specify dtype option on import or set low_memory=False.\n",
            "  interactivity=interactivity, compiler=compiler, result=result)\n",
            "/usr/local/lib/python3.6/dist-packages/IPython/core/interactiveshell.py:2718: DtypeWarning: Columns (5,108,121,196,197,198) have mixed types. Specify dtype option on import or set low_memory=False.\n",
            "  interactivity=interactivity, compiler=compiler, result=result)\n",
            "/usr/local/lib/python3.6/dist-packages/IPython/core/interactiveshell.py:2718: DtypeWarning: Columns (8,12,13,14,15,16,50,51,52,53,55,56,57,58,59,60,61,62,63,64,65,66,67,68,69,70,71,72,73,74,75,76,77,78,79,80,81,82,83,84,85,93,94,95,96,97,98,99,100,101,102,103,104,105,106,107,108,109,110,111,112,113,114,115,116,117,118,119,120,121,122,123,124,125,126,127,128) have mixed types. Specify dtype option on import or set low_memory=False.\n",
            "  interactivity=interactivity, compiler=compiler, result=result)\n"
          ],
          "name": "stderr"
        }
      ]
    },
    {
      "cell_type": "markdown",
      "metadata": {
        "id": "RBdatsrgw7_V",
        "colab_type": "text"
      },
      "source": [
        "First, we check the size and columns for each dataset."
      ]
    },
    {
      "cell_type": "code",
      "metadata": {
        "id": "DfwRHizFpn3i",
        "colab_type": "code",
        "outputId": "ccc165bc-a7a2-4200-b2a6-5a0bbfd33809",
        "colab": {
          "base_uri": "https://localhost:8080/",
          "height": 533
        }
      },
      "source": [
        "# Print the columns per year.\n",
        "for i in range(2011, 2020):\n",
        "    print(\"Year \" + str(i))\n",
        "    print(df[i].shape)\n",
        "    print(list(df[i].columns))"
      ],
      "execution_count": 0,
      "outputs": [
        {
          "output_type": "stream",
          "text": [
            "Year 2011\n",
            "(2813, 65)\n",
            "['Response', 'Response.1', 'Response.2', 'Response.3', 'Response.4', 'Response.5', 'Response.6', 'Response.7', 'Influencer', 'Recommender', 'Approver', 'Purchaser', 'Check Writer', 'No Involvement', \"I'm a Seller\", 'Hardware', 'Servers', 'Software', 'User Equipment: Monitors, PCs, Laptops', 'Consultants', 'Other', '<$10,000', '$10,001 - $25,000', '$25,001 - $40,000', '$41,000 - $75,000', '$75,001 - $100,000', '$100,001 - $150,000', '>$150,000', \"Don't know\", 'Response.8', 'Java', 'JavaScript', 'CSS', 'PHP', 'Python', 'Ruby', 'SQL', 'C#', 'C++', 'C', 'Perl', 'None', 'other (please specify)', 'Response.9', 'Response.10', 'Response.11', 'iPhone', 'Android', 'Blackberry', 'Other Smart Phone', 'Regular Mobile Phone', 'Kindle', 'Nook', 'Blu-Ray', 'HDTV', 'AppleTV', 'iPad', 'Other netbook', 'PS3', 'Xbox', 'Wii', 'Other gaming system', 'other (please specify).1', 'Response.12', 'Response.13']\n",
            "Year 2012\n",
            "(6243, 75)\n",
            "['Response', 'Response.1', 'Response.2', 'Response.3', 'Response.4', 'Response.5', 'Response.6', 'Influencer', 'Recommender', 'Approver', 'Purchaser', 'Check Writer', 'No Involvement', \"I'm a Seller\", 'Hardware', 'Servers', 'Software', 'User Equipment: Monitors, PCs, Laptops', 'Consultants', 'Other', 'Response.7', 'Response.8', 'Java', 'JavaScript', 'CSS', 'PHP', 'Python', 'Objective-C', 'Ruby', 'SQL', 'C#', 'C++', 'C', 'Perl', 'HTML5', 'None', 'Other (please specify)', 'Response.9', 'Response.10', 'Response.11', 'Response.12', 'Response.13', 'Response.14', 'Other (please specify).1', 'iPhone', 'Android', 'Blackberry', 'Windows Phone', 'Other Smart Phone', 'Regular Mobile Phone', 'Kindle', 'Nook', 'AppleTV', 'Boxee', 'Other media streaming device', 'Netbook', 'PS3', 'Xbox', 'Wii', 'Other gaming system', 'Kindle Fire', 'iPad', 'Other tablet', 'Other (please specify).2', 'Response.15', 'The ads are relevant', 'The ads are entertaining', 'The ads are Informative', 'I click on ads that interest me', \"I've taken a trial/purchased a product from ads\", 'What ads? I use an ad blocker', 'Open-Ended Response', 'Response.16', 'Response.17', 'Other Stack Exchange (please specify)']\n",
            "Year 2013\n",
            "(9742, 128)\n",
            "['Response', 'Response.1', 'Response.2', 'Response.3', 'Response.4', 'Response.5', 'Response.6', 'Response.7', 'Response.8', 'System Administrators', 'Designers', 'Product Managers', 'Testers / Quality Assurance', 'Technical Support', 'Sales / Marketing', 'Consultants', 'Customers', 'Finance', 'Human Resources', 'iPhone', 'iPad', 'Android phone', 'Android tablet', 'Blackberry', 'Other', 'No mobile app', 'Advertising', 'Direct sales to consumers', 'Direct sales to companies', 'Software as a service / recurring billing', 'Mobile app sales', 'Consulting', 'Grants / outside fund-raising', 'Other.1', 'Developing new features', 'Refactoring / code quality', 'Fixing bugs', 'Technical support', 'Meetings', 'Learning new skills', 'Surfing the Internet', 'Commuting', 'I can recommend or request products', \"I influence purchasing decisions, but don't have final approval\", 'I have a discretionary budget at my disposal', 'I can buy anything I want without asking anyone', 'Check Writer', 'No Involvement', \"I'm a Seller\", 'Hardware', 'Servers', 'Software', 'User Equipment: Monitors, PCs, Laptops', 'Consultants.1', 'Other.2', 'Response.9', 'C', 'C++', 'C#', 'Java', 'JavaScript', 'jQuery', 'JQuery', 'Node.js', 'Objective-C', 'PHP', 'Python', 'Ruby', 'SQL', 'Other (please specify)', 'Node.js.1', 'Haskell', 'CoffeeScript', 'Dart', 'TypeScript', 'C++11', 'WinRT', 'Redis', 'MongoDB', 'F#', 'PhoneGap', 'Response.10', 'High Base Compensation', 'Stock Options/Profit Sharing Program', 'Identification With the Company/Goals', \"Excitement About the Company's Products\", 'Opportunity to Use/Learn New Technologies', 'Room for Growth of Skills/Knowledge', 'High Quality Office Space (amenities, lounge space, free food, etc)', 'High Caliber Team (is everyone else smart/hardworking)', 'Positive Organization Structure (not much bureaucracy, helpful management)', 'Lots of Control Over Your Own Work', 'Quality of Workstation (dream machine, 30inch monitors, etc)', 'Autonomy Over Budget/Expenditures', 'Office in a Desirable City/Area', 'Convenient Commute or Telecommute Options', '40 hour work week', 'Limited night / weekend work', 'Response.11', 'Response.12', 'Response.13', 'iPhone.1', 'Android', 'Blackberry.1', 'Windows Phone', 'iPad.1', 'Android Tablet', 'Kindle Fire', 'Windows Tablet', 'Kindle', 'Nook', 'PS3', 'Xbox', 'Wii', 'Other (please specify).1', 'Response.14', 'The ads are relevant', 'The ads are entertaining', 'The ads are Informative', 'I click on ads that interest me', \"I've taken a trial/purchased a product from ads\", 'What ads? I use an ad blocker', 'Open-Ended Response', 'Response.15', \"Read other people's questions to solve my problems\", 'Ask questions to solve problems', 'Answer questions I know the answer to', 'Other (please specify).2']\n",
            "Year 2014\n",
            "(7643, 120)\n",
            "['Response', 'Other (please specify)', 'Response.1', 'Response.2', 'Response.3', 'Response.4', 'Response.5', 'Response.6', 'Response.7', 'Response.8', 'Response.9', 'Response.10', 'Response.11', 'iPhone', 'iPad', 'Android Phone', 'Android Tablet', 'Windows Phone', 'Other', 'No mobile app', 'Developing new features', 'Refactoring / code quality', 'Fixing bugs', 'Technical support', 'Meetings', 'Learning new skills', 'Surfing the Internet', 'Looking for a new job', 'Using Stack Exchange', 'I can recommend or request products', \"I influence purchasing decisions, but don't have final approval\", 'I have a discretionary budget at my disposal', 'I can buy anything I want without asking anyone', 'No Involvement', 'Hardware', 'Servers', 'Software', 'User Equipment: Monitors, PCs, Laptops', 'Consultants', 'Recruitment Tools & Services', 'Other.1', 'Response.12', 'C', 'C++', 'C#', 'Java', 'JavaScript', 'Node.js', 'Objective-C', 'PHP', 'Python', 'Ruby', 'SQL', 'Other (please specify).1', 'Node.js.1', 'Haskell', 'CoffeeScript', 'Dart', 'C++11', 'Redis', 'MongoDB', 'F#', 'Go', 'Hadoop', 'AngularJS', 'Cordova', 'Arduino / Raspberry Pi', 'Response.13', 'iPhone.1', 'Android Phone.1', 'Windows Phone.1', 'iPad.1', 'Android Tablet.1', 'Kindle Fire', 'Windows Tablet', 'PS3', 'PS4', 'Xbox 360', 'Xbox One', 'Wii', 'Wii U', 'Other (please specify).2', 'Response.14', 'Response.15', 'Other (please specify).3', 'Response.16', 'Response.17', 'Email', 'LinkedIn Inmail', 'Phone', 'Stack Overflow Careers Message', 'Twitter', 'Message is personalized to me', 'Mentions my code or Stack Overflow activity', 'Includes salary information', 'Describes the team I will work on', 'Describes company culture', 'Describes benefits / perks of the work environment', 'Link to a Stack Overflow Careers Company Page or other source of more information about the company (videos, articles, etc)', 'Response.18', 'Response.19', 'Response.20', 'The ads are relevant', 'The ads are entertaining', 'The ads are Informative', 'I click on ads that interest me', \"I've taken a trial/purchased a product from ads\", 'I like that I can indicate ads I want to see less of', 'What ads? I use an ad blocker', 'Response.21', 'Response.22', 'Open-Ended Response', 'Response.23', \"Read other people's questions to solve my problems\", 'Ask questions to solve problems', 'Answer questions I know the answer to', 'Looking for a job', 'Build my online reputation', 'Other (please specify).4', 'Response.24']\n",
            "Year 2015\n",
            "(26086, 222)\n",
            "['Country', 'Age', 'Gender', 'Tabs or Spaces', 'Years IT / Programming Experience', 'Occupation', 'Desktop Operating System', 'Desktop Operating System: write-in', 'Current Lang & Tech: Android', 'Current Lang & Tech: Arduino', 'Current Lang & Tech: AngularJS', 'Current Lang & Tech: C', 'Current Lang & Tech: C++', 'Current Lang & Tech: C++11', 'Current Lang & Tech: C#', 'Current Lang & Tech: Cassandra', 'Current Lang & Tech: CoffeeScript', 'Current Lang & Tech: Cordova', 'Current Lang & Tech: Clojure', 'Current Lang & Tech: Cloud', 'Current Lang & Tech: Dart', 'Current Lang & Tech: F#', 'Current Lang & Tech: Go', 'Current Lang & Tech: Hadoop', 'Current Lang & Tech: Haskell', 'Current Lang & Tech: iOS', 'Current Lang & Tech: Java', 'Current Lang & Tech: JavaScript', 'Current Lang & Tech: LAMP', 'Current Lang & Tech: Matlab', 'Current Lang & Tech: MongoDB', 'Current Lang & Tech: Node.js', 'Current Lang & Tech: Objective-C', 'Current Lang & Tech: Perl', 'Current Lang & Tech: PHP', 'Current Lang & Tech: Python', 'Current Lang & Tech: R', 'Current Lang & Tech: Redis', 'Current Lang & Tech: Ruby', 'Current Lang & Tech: Rust', 'Current Lang & Tech: Salesforce', 'Current Lang & Tech: Scala', 'Current Lang & Tech: Sharepoint', 'Current Lang & Tech: Spark', 'Current Lang & Tech: SQL', 'Current Lang & Tech: SQL Server', 'Current Lang & Tech: Swift', 'Current Lang & Tech: Visual Basic', 'Current Lang & Tech: Windows Phone', 'Current Lang & Tech: Wordpress', 'Current Lang & Tech: Write-In', 'Future Lang & Tech: Android', 'Future Lang & Tech: Arduino', 'Future Lang & Tech: AngularJS', 'Future Lang & Tech: C', 'Future Lang & Tech: C++', 'Future Lang & Tech: C++11', 'Future Lang & Tech: C#', 'Future Lang & Tech: Cassandra', 'Future Lang & Tech: CoffeeScript', 'Future Lang & Tech: Cordova', 'Future Lang & Tech: Clojure', 'Future Lang & Tech: Cloud', 'Future Lang & Tech: Dart', 'Future Lang & Tech: F#', 'Future Lang & Tech: Go', 'Future Lang & Tech: Hadoop', 'Future Lang & Tech: Haskell', 'Future Lang & Tech: iOS', 'Future Lang & Tech: Java', 'Future Lang & Tech: JavaScript', 'Future Lang & Tech: LAMP', 'Future Lang & Tech: Matlab', 'Future Lang & Tech: MongoDB', 'Future Lang & Tech: Node.js', 'Future Lang & Tech: Objective-C', 'Future Lang & Tech: Perl', 'Future Lang & Tech: PHP', 'Future Lang & Tech: Python', 'Future Lang & Tech: R', 'Future Lang & Tech: Redis', 'Future Lang & Tech: Ruby', 'Future Lang & Tech: Rust', 'Future Lang & Tech: Salesforce', 'Future Lang & Tech: Scala', 'Future Lang & Tech: Sharepoint', 'Future Lang & Tech: Spark', 'Future Lang & Tech: SQL', 'Future Lang & Tech: SQL Server', 'Future Lang & Tech: Swift', 'Future Lang & Tech: Visual Basic', 'Future Lang & Tech: Windows Phone', 'Future Lang & Tech: Wordpress', 'Future Lang & Tech: Write-In', 'Training & Education: No formal training', 'Training & Education: On the job', 'Training & Education: Boot camp or night school', 'Training & Education: Online Class', 'Training & Education: Mentorship', 'Training & Education: Industry certification', 'Training & Education: Some college, but no CS degree', 'Training & Education: BS in CS', 'Training & Education: Masters in CS', 'Training & Education: PhD in CS', 'Training & Education: Other', 'Compensation', 'Compensation: midpoint', 'Employment Status', 'Industry', 'Job Satisfaction', 'Purchasing Power', 'Remote Status', 'Changed Jobs in last 12 Months', 'Open to new job opportunities', 'Most important aspect of new job opportunity: Salary', 'Most important aspect of new job opportunity: Equity', 'Most important aspect of new job opportunity: Important decisions', 'Most important aspect of new job opportunity: Health insurance', 'Most important aspect of new job opportunity: Industry', 'Most important aspect of new job opportunity: Tech stack', 'Most important aspect of new job opportunity: Company size', 'Most important aspect of new job opportunity: Company stage', 'Most important aspect of new job opportunity: Work - Life balance', 'Most important aspect of new job opportunity: Advancement', 'Most important aspect of new job opportunity: Job title', 'Most important aspect of new job opportunity: Office location', 'Most important aspect of new job opportunity: Quality of colleagues', 'Most important aspect of new job opportunity: Company culture', 'Most important aspect of new job opportunity: Company reputation', 'Most important aspect of new job opportunity: Building something that matters', 'Most important aspect of new job opportunity: Remote working', 'Most important aspect of new job opportunity: Flexible work options', 'How important is remote when evaluating new job opportunity?', 'Most annoying about job search: Finding time', \"Most annoying about job search: Finding job I'm qualified for\", 'Most annoying about job search: Finding interesting job', 'Most annoying about job search: Interesting companies rarely respond', 'Most annoying about job search: Writing and updating CV', 'Most annoying about job search: Taking time off work to interview', 'Most annoying about job search: The Interview', 'How often contacted by recruiters', 'Perception of recruiter contact', 'Perception of contact form: Email', 'Perception of contact form: LinkedIn', 'Perception of contact form: Xing', 'Perception of contact form: Phone', 'Perception of contact form: Stack Overflow Careers', 'Perception of contact form: Twitter', 'Perception of contact form: Facebook', 'Appealing message traits: Message is personalized', 'Appealing message traits: Code or projects mentioned', 'Appealing message traits: Stack Overflow activity mentioned', 'Appealing message traits: Team described', 'Appealing message traits: Company culture described', 'Appealing message traits: Salary information', 'Appealing message traits: Benefits & Perks', 'Appealing message traits: Stack Overflow Company Page', 'Most urgent info about job opportunity: Salary', 'Most urgent info about job opportunity: Benefits', 'Most urgent info about job opportunity: Company name', 'Most urgent info about job opportunity: Tech stack', 'Most urgent info about job opportunity: Office location', 'Most urgent info about job opportunity: Job title', 'Most urgent info about job opportunity: Colleagues', 'Most urgent info about job opportunity: Product details', 'Who do you want to communicate with about a new job opportunity: Headhunter', 'Who do you want to communicate with about a new job opportunity: In-house recruiter', 'Who do you want to communicate with about a new job opportunity: In-house tech recruiter', 'Who do you want to communicate with about a new job opportunity: Manager', 'Who do you want to communicate with about a new job opportunity: Developer', 'How can companies improve interview process: More live code', 'How can companies improve interview process: Flexible interview schedule', 'How can companies improve interview process: Remote interviews', 'How can companies improve interview process: Introduce me to boss', 'How can companies improve interview process: Introduce me to team', 'How can companies improve interview process: Gimme coffee', 'How can companies improve interview process: Show me workplace', 'How can companies improve interview process: Fewer brainteasers', 'How can companies improve interview process: Better preparation', 'Why try Stack Overflow Careers: No spam', 'Why try Stack Overflow Careers: Jobs site for programmers', 'Why try Stack Overflow Careers: Selection of revelant jobs', 'Why try Stack Overflow Careers: Showcase Stack Overflow activity', 'Why try Stack Overflow Careers: Jobs are on Stack Overflow', 'Why try Stack Overflow Careers: Other', 'How many caffeinated beverages per day?', 'How many hours programming as hobby per week?', 'How frequently land on or read Stack Overflow', 'Preferred text editor', 'Preferred text editor: write-in', 'Prefered IDE theme', 'Source control used: Git', 'Source control used: Mercurial', 'Source control used: SVN', 'Source control used: CVS', 'Source control used: Perforce', 'Source control used: TFS', 'Source control used: DCVS', 'Source control used: Bitkeeper', 'Source control used: Legacy / Custom', \"Source control used: I don't use source control\", 'Source control used: write-in', 'Prefered Source Control', 'Prefered Source Control: write-in', 'Why use Stack Overflow: Help for job', 'Why use Stack Overflow: To give help', \"Why use Stack Overflow: Can't do job without it\", 'Why use Stack Overflow: Maintain online presence', 'Why use Stack Overflow: Demonstrate expertise', 'Why use Stack Overflow: Communicate with others', 'Why use Stack Overflow: Receive help on personal projects', 'Why use Stack Overflow: Love to learn', \"Why use Stack Overflow: I don't use Stack Overflow\", \"How often are Stack Overflow's answers helpful\", 'Why answer: Help a programmer in need', 'Why answer: Help future programmers', 'Why answer: Demonstrate expertise', 'Why answer: Self promotion', 'Why answer: Sense of responsibility to developers', 'Why answer: No idea', \"Why answer: I don't answer and I don't want to\", \"Why answer: I don't answer but I want to\"]\n",
            "Year 2016\n",
            "(56030, 66)\n",
            "['Unnamed: 0', 'collector', 'country', 'un_subregion', 'so_region', 'age_range', 'age_midpoint', 'gender', 'self_identification', 'occupation', 'occupation_group', 'experience_range', 'experience_midpoint', 'salary_range', 'salary_midpoint', 'big_mac_index', 'tech_do', 'tech_want', 'aliens', 'programming_ability', 'employment_status', 'industry', 'company_size_range', 'team_size_range', 'women_on_team', 'remote', 'job_satisfaction', 'job_discovery', 'dev_environment', 'commit_frequency', 'hobby', 'dogs_vs_cats', 'desktop_os', 'unit_testing', 'rep_range', 'visit_frequency', 'why_learn_new_tech', 'education', 'open_to_new_job', 'new_job_value', 'job_search_annoyance', 'interview_likelihood', 'how_to_improve_interview_process', 'star_wars_vs_star_trek', 'agree_tech', 'agree_notice', 'agree_problemsolving', 'agree_diversity', 'agree_adblocker', 'agree_alcohol', 'agree_loveboss', 'agree_nightcode', 'agree_legacy', 'agree_mars', 'important_variety', 'important_control', 'important_sameend', 'important_newtech', 'important_buildnew', 'important_buildexisting', 'important_promotion', 'important_companymission', 'important_wfh', 'important_ownoffice', 'developer_challenges', 'why_stack_overflow']\n",
            "Year 2017\n",
            "(51392, 154)\n",
            "['Respondent', 'Professional', 'ProgramHobby', 'Country', 'University', 'EmploymentStatus', 'FormalEducation', 'MajorUndergrad', 'HomeRemote', 'CompanySize', 'CompanyType', 'YearsProgram', 'YearsCodedJob', 'YearsCodedJobPast', 'DeveloperType', 'WebDeveloperType', 'MobileDeveloperType', 'NonDeveloperType', 'CareerSatisfaction', 'JobSatisfaction', 'ExCoderReturn', 'ExCoderNotForMe', 'ExCoderBalance', 'ExCoder10Years', 'ExCoderBelonged', 'ExCoderSkills', 'ExCoderWillNotCode', 'ExCoderActive', 'PronounceGIF', 'ProblemSolving', 'BuildingThings', 'LearningNewTech', 'BoringDetails', 'JobSecurity', 'DiversityImportant', 'AnnoyingUI', 'FriendsDevelopers', 'RightWrongWay', 'UnderstandComputers', 'SeriousWork', 'InvestTimeTools', 'WorkPayCare', 'KinshipDevelopers', 'ChallengeMyself', 'CompetePeers', 'ChangeWorld', 'JobSeekingStatus', 'HoursPerWeek', 'LastNewJob', 'AssessJobIndustry', 'AssessJobRole', 'AssessJobExp', 'AssessJobDept', 'AssessJobTech', 'AssessJobProjects', 'AssessJobCompensation', 'AssessJobOffice', 'AssessJobCommute', 'AssessJobRemote', 'AssessJobLeaders', 'AssessJobProfDevel', 'AssessJobDiversity', 'AssessJobProduct', 'AssessJobFinances', 'ImportantBenefits', 'ClickyKeys', 'JobProfile', 'ResumePrompted', 'LearnedHiring', 'ImportantHiringAlgorithms', 'ImportantHiringTechExp', 'ImportantHiringCommunication', 'ImportantHiringOpenSource', 'ImportantHiringPMExp', 'ImportantHiringCompanies', 'ImportantHiringTitles', 'ImportantHiringEducation', 'ImportantHiringRep', 'ImportantHiringGettingThingsDone', 'Currency', 'Overpaid', 'TabsSpaces', 'EducationImportant', 'EducationTypes', 'SelfTaughtTypes', 'TimeAfterBootcamp', 'CousinEducation', 'WorkStart', 'HaveWorkedLanguage', 'WantWorkLanguage', 'HaveWorkedFramework', 'WantWorkFramework', 'HaveWorkedDatabase', 'WantWorkDatabase', 'HaveWorkedPlatform', 'WantWorkPlatform', 'IDE', 'AuditoryEnvironment', 'Methodology', 'VersionControl', 'CheckInCode', 'ShipIt', 'OtherPeoplesCode', 'ProjectManagement', 'EnjoyDebugging', 'InTheZone', 'DifficultCommunication', 'CollaborateRemote', 'MetricAssess', 'EquipmentSatisfiedMonitors', 'EquipmentSatisfiedCPU', 'EquipmentSatisfiedRAM', 'EquipmentSatisfiedStorage', 'EquipmentSatisfiedRW', 'InfluenceInternet', 'InfluenceWorkstation', 'InfluenceHardware', 'InfluenceServers', 'InfluenceTechStack', 'InfluenceDeptTech', 'InfluenceVizTools', 'InfluenceDatabase', 'InfluenceCloud', 'InfluenceConsultants', 'InfluenceRecruitment', 'InfluenceCommunication', 'StackOverflowDescribes', 'StackOverflowSatisfaction', 'StackOverflowDevices', 'StackOverflowFoundAnswer', 'StackOverflowCopiedCode', 'StackOverflowJobListing', 'StackOverflowCompanyPage', 'StackOverflowJobSearch', 'StackOverflowNewQuestion', 'StackOverflowAnswer', 'StackOverflowMetaChat', 'StackOverflowAdsRelevant', 'StackOverflowAdsDistracting', 'StackOverflowModeration', 'StackOverflowCommunity', 'StackOverflowHelpful', 'StackOverflowBetter', 'StackOverflowWhatDo', 'StackOverflowMakeMoney', 'Gender', 'HighestEducationParents', 'Race', 'SurveyLong', 'QuestionsInteresting', 'QuestionsConfusing', 'InterestedAnswers', 'Salary', 'ExpectedSalary']\n",
            "Year 2018\n",
            "(98855, 129)\n",
            "['Respondent', 'Hobby', 'OpenSource', 'Country', 'Student', 'Employment', 'FormalEducation', 'UndergradMajor', 'CompanySize', 'DevType', 'YearsCoding', 'YearsCodingProf', 'JobSatisfaction', 'CareerSatisfaction', 'HopeFiveYears', 'JobSearchStatus', 'LastNewJob', 'AssessJob1', 'AssessJob2', 'AssessJob3', 'AssessJob4', 'AssessJob5', 'AssessJob6', 'AssessJob7', 'AssessJob8', 'AssessJob9', 'AssessJob10', 'AssessBenefits1', 'AssessBenefits2', 'AssessBenefits3', 'AssessBenefits4', 'AssessBenefits5', 'AssessBenefits6', 'AssessBenefits7', 'AssessBenefits8', 'AssessBenefits9', 'AssessBenefits10', 'AssessBenefits11', 'JobContactPriorities1', 'JobContactPriorities2', 'JobContactPriorities3', 'JobContactPriorities4', 'JobContactPriorities5', 'JobEmailPriorities1', 'JobEmailPriorities2', 'JobEmailPriorities3', 'JobEmailPriorities4', 'JobEmailPriorities5', 'JobEmailPriorities6', 'JobEmailPriorities7', 'UpdateCV', 'Currency', 'Salary', 'SalaryType', 'ConvertedSalary', 'CurrencySymbol', 'CommunicationTools', 'TimeFullyProductive', 'EducationTypes', 'SelfTaughtTypes', 'TimeAfterBootcamp', 'HackathonReasons', 'AgreeDisagree1', 'AgreeDisagree2', 'AgreeDisagree3', 'LanguageWorkedWith', 'LanguageDesireNextYear', 'DatabaseWorkedWith', 'DatabaseDesireNextYear', 'PlatformWorkedWith', 'PlatformDesireNextYear', 'FrameworkWorkedWith', 'FrameworkDesireNextYear', 'IDE', 'OperatingSystem', 'NumberMonitors', 'Methodology', 'VersionControl', 'CheckInCode', 'AdBlocker', 'AdBlockerDisable', 'AdBlockerReasons', 'AdsAgreeDisagree1', 'AdsAgreeDisagree2', 'AdsAgreeDisagree3', 'AdsActions', 'AdsPriorities1', 'AdsPriorities2', 'AdsPriorities3', 'AdsPriorities4', 'AdsPriorities5', 'AdsPriorities6', 'AdsPriorities7', 'AIDangerous', 'AIInteresting', 'AIResponsible', 'AIFuture', 'EthicsChoice', 'EthicsReport', 'EthicsResponsible', 'EthicalImplications', 'StackOverflowRecommend', 'StackOverflowVisit', 'StackOverflowHasAccount', 'StackOverflowParticipate', 'StackOverflowJobs', 'StackOverflowDevStory', 'StackOverflowJobsRecommend', 'StackOverflowConsiderMember', 'HypotheticalTools1', 'HypotheticalTools2', 'HypotheticalTools3', 'HypotheticalTools4', 'HypotheticalTools5', 'WakeTime', 'HoursComputer', 'HoursOutside', 'SkipMeals', 'ErgonomicDevices', 'Exercise', 'Gender', 'SexualOrientation', 'EducationParents', 'RaceEthnicity', 'Age', 'Dependents', 'MilitaryUS', 'SurveyTooLong', 'SurveyEasy']\n",
            "Year 2019\n",
            "(88883, 85)\n",
            "['Respondent', 'MainBranch', 'Hobbyist', 'OpenSourcer', 'OpenSource', 'Employment', 'Country', 'Student', 'EdLevel', 'UndergradMajor', 'EduOther', 'OrgSize', 'DevType', 'YearsCode', 'Age1stCode', 'YearsCodePro', 'CareerSat', 'JobSat', 'MgrIdiot', 'MgrMoney', 'MgrWant', 'JobSeek', 'LastHireDate', 'LastInt', 'FizzBuzz', 'JobFactors', 'ResumeUpdate', 'CurrencySymbol', 'CurrencyDesc', 'CompTotal', 'CompFreq', 'ConvertedComp', 'WorkWeekHrs', 'WorkPlan', 'WorkChallenge', 'WorkRemote', 'WorkLoc', 'ImpSyn', 'CodeRev', 'CodeRevHrs', 'UnitTests', 'PurchaseHow', 'PurchaseWhat', 'LanguageWorkedWith', 'LanguageDesireNextYear', 'DatabaseWorkedWith', 'DatabaseDesireNextYear', 'PlatformWorkedWith', 'PlatformDesireNextYear', 'WebFrameWorkedWith', 'WebFrameDesireNextYear', 'MiscTechWorkedWith', 'MiscTechDesireNextYear', 'DevEnviron', 'OpSys', 'Containers', 'BlockchainOrg', 'BlockchainIs', 'BetterLife', 'ITperson', 'OffOn', 'SocialMedia', 'Extraversion', 'ScreenName', 'SOVisit1st', 'SOVisitFreq', 'SOVisitTo', 'SOFindAnswer', 'SOTimeSaved', 'SOHowMuchTime', 'SOAccount', 'SOPartFreq', 'SOJobs', 'EntTeams', 'SOComm', 'WelcomeChange', 'SONewContent', 'Age', 'Gender', 'Trans', 'Sexuality', 'Ethnicity', 'Dependents', 'SurveyLength', 'SurveyEase']\n"
          ],
          "name": "stdout"
        }
      ]
    },
    {
      "cell_type": "markdown",
      "metadata": {
        "id": "ylo9roeBHUju",
        "colab_type": "text"
      },
      "source": [
        "The survey is clearly different each year."
      ]
    },
    {
      "cell_type": "code",
      "metadata": {
        "id": "IlM6pcB3Hag8",
        "colab_type": "code",
        "outputId": "49a94d67-4542-47f1-a6d5-1cbbde0fae08",
        "colab": {
          "base_uri": "https://localhost:8080/",
          "height": 300
        }
      },
      "source": [
        "df[2019].describe()"
      ],
      "execution_count": 0,
      "outputs": [
        {
          "output_type": "execute_result",
          "data": {
            "text/html": [
              "<div>\n",
              "<style scoped>\n",
              "    .dataframe tbody tr th:only-of-type {\n",
              "        vertical-align: middle;\n",
              "    }\n",
              "\n",
              "    .dataframe tbody tr th {\n",
              "        vertical-align: top;\n",
              "    }\n",
              "\n",
              "    .dataframe thead th {\n",
              "        text-align: right;\n",
              "    }\n",
              "</style>\n",
              "<table border=\"1\" class=\"dataframe\">\n",
              "  <thead>\n",
              "    <tr style=\"text-align: right;\">\n",
              "      <th></th>\n",
              "      <th>Respondent</th>\n",
              "      <th>CompTotal</th>\n",
              "      <th>ConvertedComp</th>\n",
              "      <th>WorkWeekHrs</th>\n",
              "      <th>CodeRevHrs</th>\n",
              "      <th>Age</th>\n",
              "    </tr>\n",
              "  </thead>\n",
              "  <tbody>\n",
              "    <tr>\n",
              "      <th>count</th>\n",
              "      <td>88883.000000</td>\n",
              "      <td>5.594500e+04</td>\n",
              "      <td>5.582300e+04</td>\n",
              "      <td>64503.000000</td>\n",
              "      <td>49790.000000</td>\n",
              "      <td>79210.000000</td>\n",
              "    </tr>\n",
              "    <tr>\n",
              "      <th>mean</th>\n",
              "      <td>44442.000000</td>\n",
              "      <td>5.519014e+11</td>\n",
              "      <td>1.271107e+05</td>\n",
              "      <td>42.127197</td>\n",
              "      <td>5.084308</td>\n",
              "      <td>30.336699</td>\n",
              "    </tr>\n",
              "    <tr>\n",
              "      <th>std</th>\n",
              "      <td>25658.456325</td>\n",
              "      <td>7.331926e+13</td>\n",
              "      <td>2.841523e+05</td>\n",
              "      <td>37.287610</td>\n",
              "      <td>5.513931</td>\n",
              "      <td>9.178390</td>\n",
              "    </tr>\n",
              "    <tr>\n",
              "      <th>min</th>\n",
              "      <td>1.000000</td>\n",
              "      <td>0.000000e+00</td>\n",
              "      <td>0.000000e+00</td>\n",
              "      <td>1.000000</td>\n",
              "      <td>0.000000</td>\n",
              "      <td>1.000000</td>\n",
              "    </tr>\n",
              "    <tr>\n",
              "      <th>25%</th>\n",
              "      <td>22221.500000</td>\n",
              "      <td>2.000000e+04</td>\n",
              "      <td>2.577750e+04</td>\n",
              "      <td>40.000000</td>\n",
              "      <td>2.000000</td>\n",
              "      <td>24.000000</td>\n",
              "    </tr>\n",
              "    <tr>\n",
              "      <th>50%</th>\n",
              "      <td>44442.000000</td>\n",
              "      <td>6.200000e+04</td>\n",
              "      <td>5.728700e+04</td>\n",
              "      <td>40.000000</td>\n",
              "      <td>4.000000</td>\n",
              "      <td>29.000000</td>\n",
              "    </tr>\n",
              "    <tr>\n",
              "      <th>75%</th>\n",
              "      <td>66662.500000</td>\n",
              "      <td>1.200000e+05</td>\n",
              "      <td>1.000000e+05</td>\n",
              "      <td>44.750000</td>\n",
              "      <td>6.000000</td>\n",
              "      <td>35.000000</td>\n",
              "    </tr>\n",
              "    <tr>\n",
              "      <th>max</th>\n",
              "      <td>88883.000000</td>\n",
              "      <td>1.000000e+16</td>\n",
              "      <td>2.000000e+06</td>\n",
              "      <td>4850.000000</td>\n",
              "      <td>99.000000</td>\n",
              "      <td>99.000000</td>\n",
              "    </tr>\n",
              "  </tbody>\n",
              "</table>\n",
              "</div>"
            ],
            "text/plain": [
              "         Respondent     CompTotal  ...    CodeRevHrs           Age\n",
              "count  88883.000000  5.594500e+04  ...  49790.000000  79210.000000\n",
              "mean   44442.000000  5.519014e+11  ...      5.084308     30.336699\n",
              "std    25658.456325  7.331926e+13  ...      5.513931      9.178390\n",
              "min        1.000000  0.000000e+00  ...      0.000000      1.000000\n",
              "25%    22221.500000  2.000000e+04  ...      2.000000     24.000000\n",
              "50%    44442.000000  6.200000e+04  ...      4.000000     29.000000\n",
              "75%    66662.500000  1.200000e+05  ...      6.000000     35.000000\n",
              "max    88883.000000  1.000000e+16  ...     99.000000     99.000000\n",
              "\n",
              "[8 rows x 6 columns]"
            ]
          },
          "metadata": {
            "tags": []
          },
          "execution_count": 8
        }
      ]
    },
    {
      "cell_type": "markdown",
      "metadata": {
        "id": "6ow7UR1pLhFF",
        "colab_type": "text"
      },
      "source": [
        "There are only a few numerical columns. Not all fields have the same counts, so there are missing values. Also, the minimum value of 1 and maximum of 99 in the age field look erroneous."
      ]
    },
    {
      "cell_type": "code",
      "metadata": {
        "id": "DSRarxtGMB8Q",
        "colab_type": "code",
        "outputId": "e89c690b-e9f0-4005-c61a-682e4c5f1c66",
        "colab": {
          "base_uri": "https://localhost:8080/",
          "height": 301
        }
      },
      "source": [
        "sns.distplot(df[2019].dropna().Age)"
      ],
      "execution_count": 0,
      "outputs": [
        {
          "output_type": "execute_result",
          "data": {
            "text/plain": [
              "<matplotlib.axes._subplots.AxesSubplot at 0x7f0f926c3da0>"
            ]
          },
          "metadata": {
            "tags": []
          },
          "execution_count": 9
        },
        {
          "output_type": "display_data",
          "data": {
            "image/png": "[encoded data removed]",
            "text/plain": [
              "<Figure size 432x288 with 1 Axes>"
            ]
          },
          "metadata": {
            "tags": []
          }
        }
      ]
    },
    {
      "cell_type": "markdown",
      "metadata": {
        "id": "yFWPSAz0MbW8",
        "colab_type": "text"
      },
      "source": [
        "The respondents do not contain very young or old groups. The rows with age < 10 or age > 70 are likely errors. The small number of records is not likely to be important, but erroneous data might affect our analysis in a negative way. Therefore, we drop these rows."
      ]
    },
    {
      "cell_type": "code",
      "metadata": {
        "id": "mzoovYxEM3Mr",
        "colab_type": "code",
        "colab": {}
      },
      "source": [
        "df[2019] = df[2019][(df[2019].Age >= 10) & (df[2019].Age <= 70)]"
      ],
      "execution_count": 0,
      "outputs": []
    },
    {
      "cell_type": "markdown",
      "metadata": {
        "id": "JxqS61_IPWBZ",
        "colab_type": "text"
      },
      "source": [
        "Check the number of missing values per row."
      ]
    },
    {
      "cell_type": "code",
      "metadata": {
        "id": "DJfkUHzyOvnW",
        "colab_type": "code",
        "outputId": "9661eb50-bb79-466f-a42c-fac2531dce83",
        "colab": {
          "base_uri": "https://localhost:8080/",
          "height": 287
        }
      },
      "source": [
        "missing_values = df[2019].shape[1] - df[2019].apply(lambda x: x.count(), axis=1)\n",
        "sns.countplot(missing_values)"
      ],
      "execution_count": 0,
      "outputs": [
        {
          "output_type": "execute_result",
          "data": {
            "text/plain": [
              "<matplotlib.axes._subplots.AxesSubplot at 0x7f0f891647f0>"
            ]
          },
          "metadata": {
            "tags": []
          },
          "execution_count": 11
        },
        {
          "output_type": "display_data",
          "data": {
            "image/png": "[encoded data removed]",
            "text/plain": [
              "<Figure size 432x288 with 1 Axes>"
            ]
          },
          "metadata": {
            "tags": []
          }
        }
      ]
    },
    {
      "cell_type": "markdown",
      "metadata": {
        "id": "VXQamk96Pcbf",
        "colab_type": "text"
      },
      "source": [
        "There is a large group with a lot of missing values. Perhaps these are unemployed, not coding or some other legitimate group. No spikes are visible with very high missing values. Therefore, there is no reason to drop rows based on this figure."
      ]
    },
    {
      "cell_type": "markdown",
      "metadata": {
        "id": "-9Sw51hJQTzF",
        "colab_type": "text"
      },
      "source": [
        "For the first question, we are interested in the used programming languages. Each year has its own columns for this data. Save the columns in a dict for reference."
      ]
    },
    {
      "cell_type": "code",
      "metadata": {
        "id": "cRQAcKQeQk2O",
        "colab_type": "code",
        "colab": {}
      },
      "source": [
        "# Save the relevant columns, used in later code.\n",
        "columns = {}\n",
        "columns[2011] = ['Java', 'JavaScript', 'CSS', 'PHP', 'Python', 'Ruby', 'SQL', 'C#', 'C++', 'C', 'Perl']\n",
        "columns[2012] = ['Java', 'JavaScript', 'CSS', 'PHP', 'Python', 'Objective-C', 'Ruby', 'SQL', 'C#', 'C++', 'C', 'Perl']\n",
        "columns[2013] = ['C', 'C++', 'C#', 'Java', 'JavaScript', 'Node.js', 'Objective-C', 'PHP', 'Python', 'Ruby', 'SQL', 'Node.js.1', 'Haskell', 'CoffeeScript', 'Dart', 'TypeScript', 'C++11', 'F#']\n",
        "columns[2014] = ['C', 'C++', 'C#', 'Java', 'JavaScript', 'Node.js', 'Objective-C', 'PHP', 'Python', 'Ruby', 'SQL', 'Node.js.1', 'Haskell', 'CoffeeScript', 'Dart', 'C++11', 'Redis', 'MongoDB', 'F#', 'Go']\n",
        "columns[2015] = ['Current Lang & Tech: C', 'Current Lang & Tech: C++', 'Current Lang & Tech: C++11', 'Current Lang & Tech: C#', 'Current Lang & Tech: CoffeeScript', 'Current Lang & Tech: Clojure', 'Current Lang & Tech: Dart', 'Current Lang & Tech: F#', 'Current Lang & Tech: Go', 'Current Lang & Tech: Haskell', 'Current Lang & Tech: Java', 'Current Lang & Tech: JavaScript', 'Current Lang & Tech: Matlab', 'Current Lang & Tech: Node.js', 'Current Lang & Tech: Objective-C', 'Current Lang & Tech: Perl', 'Current Lang & Tech: PHP', 'Current Lang & Tech: Python', 'Current Lang & Tech: R', 'Current Lang & Tech: Ruby', 'Current Lang & Tech: Rust', 'Current Lang & Tech: Scala', 'Current Lang & Tech: SQL', 'Current Lang & Tech: SQL Server', 'Current Lang & Tech: Swift', 'Current Lang & Tech: Visual Basic']\n",
        "columns[2016] = ['tech_do'] # \"; \" separated\n",
        "columns[2017] = ['HaveWorkedLanguage'] # \"; \" separated\n",
        "columns[2018] = ['LanguageWorkedWith'] # \";\" separated\n",
        "columns[2019] = ['LanguageWorkedWith'] # \";\" separated"
      ],
      "execution_count": 0,
      "outputs": []
    },
    {
      "cell_type": "markdown",
      "metadata": {
        "id": "en9AkhM1LPjH",
        "colab_type": "text"
      },
      "source": [
        "Check the missing data in the columns used to answer the first question."
      ]
    },
    {
      "cell_type": "code",
      "metadata": {
        "id": "dSPw2UgNSDwR",
        "colab_type": "code",
        "outputId": "1ae9154e-bfc2-4709-a561-a0def6da71b5",
        "colab": {
          "base_uri": "https://localhost:8080/",
          "height": 182
        }
      },
      "source": [
        "for year in range(2011, 2020):\n",
        "  rows = df[year].shape[0]\n",
        "  missing = rows - df[year].dropna(how='all', subset=columns[year]).shape[0]\n",
        "  print('{}: {:.2f}'.format(year, missing / rows * 100))"
      ],
      "execution_count": 0,
      "outputs": [
        {
          "output_type": "stream",
          "text": [
            "2011: 9.85\n",
            "2012: 12.48\n",
            "2013: 18.03\n",
            "2014: 15.27\n",
            "2015: 16.53\n",
            "2016: 12.50\n",
            "2017: 28.73\n",
            "2018: 20.76\n",
            "2019: 0.85\n"
          ],
          "name": "stdout"
        }
      ]
    },
    {
      "cell_type": "markdown",
      "metadata": {
        "id": "jUszr0iMLESS",
        "colab_type": "text"
      },
      "source": [
        "For the second question, we want to assess as much features as possible. But we only want to detect features with low missing values. Check columns with > 20% missing values."
      ]
    },
    {
      "cell_type": "code",
      "metadata": {
        "id": "90iq6IKeIR45",
        "colab_type": "code",
        "outputId": "b375a02f-49de-4f15-c94f-b8137bb2b04f",
        "colab": {
          "base_uri": "https://localhost:8080/",
          "height": 771
        }
      },
      "source": [
        "def missing_data(df):\n",
        "  missing_percent = []\n",
        "  for column in df.columns:\n",
        "    nacount = df[column].isna().sum()\n",
        "    napercent = nacount / df.shape[0] * 100\n",
        "    missing_percent.append([napercent, nacount])\n",
        "  missing = pd.DataFrame(missing_percent)\n",
        "  missing.columns = ['na_percent', 'na_count']\n",
        "  missing.index = df.columns\n",
        "  return missing\n",
        "\n",
        "missing = missing_data(df[2019])\n",
        "missing[missing.na_percent > 20]"
      ],
      "execution_count": 0,
      "outputs": [
        {
          "output_type": "execute_result",
          "data": {
            "text/html": [
              "<div>\n",
              "<style scoped>\n",
              "    .dataframe tbody tr th:only-of-type {\n",
              "        vertical-align: middle;\n",
              "    }\n",
              "\n",
              "    .dataframe tbody tr th {\n",
              "        vertical-align: top;\n",
              "    }\n",
              "\n",
              "    .dataframe thead th {\n",
              "        text-align: right;\n",
              "    }\n",
              "</style>\n",
              "<table border=\"1\" class=\"dataframe\">\n",
              "  <thead>\n",
              "    <tr style=\"text-align: right;\">\n",
              "      <th></th>\n",
              "      <th>na_percent</th>\n",
              "      <th>na_count</th>\n",
              "    </tr>\n",
              "  </thead>\n",
              "  <tbody>\n",
              "    <tr>\n",
              "      <th>MgrIdiot</th>\n",
              "      <td>29.402534</td>\n",
              "      <td>23233</td>\n",
              "    </tr>\n",
              "    <tr>\n",
              "      <th>MgrMoney</th>\n",
              "      <td>29.382285</td>\n",
              "      <td>23217</td>\n",
              "    </tr>\n",
              "    <tr>\n",
              "      <th>MgrWant</th>\n",
              "      <td>29.305086</td>\n",
              "      <td>23156</td>\n",
              "    </tr>\n",
              "    <tr>\n",
              "      <th>LastInt</th>\n",
              "      <td>22.497690</td>\n",
              "      <td>17777</td>\n",
              "    </tr>\n",
              "    <tr>\n",
              "      <th>CompTotal</th>\n",
              "      <td>32.200666</td>\n",
              "      <td>25444</td>\n",
              "    </tr>\n",
              "    <tr>\n",
              "      <th>CompFreq</th>\n",
              "      <td>25.292026</td>\n",
              "      <td>19985</td>\n",
              "    </tr>\n",
              "    <tr>\n",
              "      <th>ConvertedComp</th>\n",
              "      <td>32.333548</td>\n",
              "      <td>25549</td>\n",
              "    </tr>\n",
              "    <tr>\n",
              "      <th>WorkWeekHrs</th>\n",
              "      <td>23.467102</td>\n",
              "      <td>18543</td>\n",
              "    </tr>\n",
              "    <tr>\n",
              "      <th>WorkPlan</th>\n",
              "      <td>20.056444</td>\n",
              "      <td>15848</td>\n",
              "    </tr>\n",
              "    <tr>\n",
              "      <th>WorkChallenge</th>\n",
              "      <td>20.922080</td>\n",
              "      <td>16532</td>\n",
              "    </tr>\n",
              "    <tr>\n",
              "      <th>CodeRevHrs</th>\n",
              "      <td>41.221509</td>\n",
              "      <td>32572</td>\n",
              "    </tr>\n",
              "    <tr>\n",
              "      <th>UnitTests</th>\n",
              "      <td>27.195414</td>\n",
              "      <td>21489</td>\n",
              "    </tr>\n",
              "    <tr>\n",
              "      <th>PurchaseHow</th>\n",
              "      <td>28.760900</td>\n",
              "      <td>22726</td>\n",
              "    </tr>\n",
              "    <tr>\n",
              "      <th>PurchaseWhat</th>\n",
              "      <td>27.652277</td>\n",
              "      <td>21850</td>\n",
              "    </tr>\n",
              "    <tr>\n",
              "      <th>DatabaseDesireNextYear</th>\n",
              "      <td>21.227078</td>\n",
              "      <td>16773</td>\n",
              "    </tr>\n",
              "    <tr>\n",
              "      <th>WebFrameWorkedWith</th>\n",
              "      <td>25.746358</td>\n",
              "      <td>20344</td>\n",
              "    </tr>\n",
              "    <tr>\n",
              "      <th>WebFrameDesireNextYear</th>\n",
              "      <td>28.025615</td>\n",
              "      <td>22145</td>\n",
              "    </tr>\n",
              "    <tr>\n",
              "      <th>MiscTechWorkedWith</th>\n",
              "      <td>31.895668</td>\n",
              "      <td>25203</td>\n",
              "    </tr>\n",
              "    <tr>\n",
              "      <th>MiscTechDesireNextYear</th>\n",
              "      <td>26.100713</td>\n",
              "      <td>20624</td>\n",
              "    </tr>\n",
              "    <tr>\n",
              "      <th>BlockchainOrg</th>\n",
              "      <td>43.890555</td>\n",
              "      <td>34681</td>\n",
              "    </tr>\n",
              "    <tr>\n",
              "      <th>BlockchainIs</th>\n",
              "      <td>30.921194</td>\n",
              "      <td>24433</td>\n",
              "    </tr>\n",
              "    <tr>\n",
              "      <th>SOHowMuchTime</th>\n",
              "      <td>22.030702</td>\n",
              "      <td>17408</td>\n",
              "    </tr>\n",
              "    <tr>\n",
              "      <th>SONewContent</th>\n",
              "      <td>20.905628</td>\n",
              "      <td>16519</td>\n",
              "    </tr>\n",
              "  </tbody>\n",
              "</table>\n",
              "</div>"
            ],
            "text/plain": [
              "                        na_percent  na_count\n",
              "MgrIdiot                 29.402534     23233\n",
              "MgrMoney                 29.382285     23217\n",
              "MgrWant                  29.305086     23156\n",
              "LastInt                  22.497690     17777\n",
              "CompTotal                32.200666     25444\n",
              "CompFreq                 25.292026     19985\n",
              "ConvertedComp            32.333548     25549\n",
              "WorkWeekHrs              23.467102     18543\n",
              "WorkPlan                 20.056444     15848\n",
              "WorkChallenge            20.922080     16532\n",
              "CodeRevHrs               41.221509     32572\n",
              "UnitTests                27.195414     21489\n",
              "PurchaseHow              28.760900     22726\n",
              "PurchaseWhat             27.652277     21850\n",
              "DatabaseDesireNextYear   21.227078     16773\n",
              "WebFrameWorkedWith       25.746358     20344\n",
              "WebFrameDesireNextYear   28.025615     22145\n",
              "MiscTechWorkedWith       31.895668     25203\n",
              "MiscTechDesireNextYear   26.100713     20624\n",
              "BlockchainOrg            43.890555     34681\n",
              "BlockchainIs             30.921194     24433\n",
              "SOHowMuchTime            22.030702     17408\n",
              "SONewContent             20.905628     16519"
            ]
          },
          "metadata": {
            "tags": []
          },
          "execution_count": 14
        }
      ]
    },
    {
      "cell_type": "markdown",
      "metadata": {
        "id": "PSPjei4CUJwX",
        "colab_type": "text"
      },
      "source": [
        "It does not contain any important columns. Drop them."
      ]
    },
    {
      "cell_type": "code",
      "metadata": {
        "id": "wQVmIuMmUOX2",
        "colab_type": "code",
        "colab": {}
      },
      "source": [
        "df[2019] = df[2019].drop(columns=list(missing[missing.na_percent > 20].index))"
      ],
      "execution_count": 0,
      "outputs": []
    },
    {
      "cell_type": "markdown",
      "metadata": {
        "id": "HNa44KZfXl1J",
        "colab_type": "text"
      },
      "source": [
        "We handled the missing data. Handling of categorical data will be done in the data preparation step for the second question."
      ]
    },
    {
      "cell_type": "markdown",
      "metadata": {
        "id": "CYei0a6tV1sW",
        "colab_type": "text"
      },
      "source": [
        "# Which programming languages are popular in 2022?\n",
        "\n",
        "The downloads contain a description of the survey. The survey questions are different each year, but each year asks for the languages used. The data can be aggregated per year and then be used to find a function that can predict its usage for a given year."
      ]
    },
    {
      "cell_type": "markdown",
      "metadata": {
        "id": "6TVs9PCHfNle",
        "colab_type": "text"
      },
      "source": [
        "## Data preparation\n"
      ]
    },
    {
      "cell_type": "markdown",
      "metadata": {
        "id": "MkFI84AZXQIm",
        "colab_type": "text"
      },
      "source": [
        "The years 2011-2015 have a column per programming language. In 2015, the names are prepended by the string \"Current Lang & Tech: \". From 2016 onwards, the languages are contained in a single cell, separated by a semicolon (and sometimes a space). The names for these columns are different each year."
      ]
    },
    {
      "cell_type": "markdown",
      "metadata": {
        "id": "6TJKz2fOXxEp",
        "colab_type": "text"
      },
      "source": [
        "Rows may contain only NA's in the relevant columns. This can be because the survey is not filled in completely, or because the respondent is not a developer at all. In both cases we want to drop these rows."
      ]
    },
    {
      "cell_type": "code",
      "metadata": {
        "id": "xSazyp5nYVnG",
        "colab_type": "code",
        "outputId": "b1558a92-5f5a-4205-f0bb-8cc52ce4671d",
        "colab": {
          "base_uri": "https://localhost:8080/",
          "height": 182
        }
      },
      "source": [
        "for year in range(2011, 2020):\n",
        "  before = df[year].shape[0]\n",
        "  df[year] = df[year].dropna(subset=columns[year], how='all').reset_index(drop=True)\n",
        "  after = df[year].shape[0]\n",
        "  print('Year {}: {} to {} rows'.format(year, before, after))"
      ],
      "execution_count": 0,
      "outputs": [
        {
          "output_type": "stream",
          "text": [
            "Year 2011: 2813 to 2536 rows\n",
            "Year 2012: 6243 to 5464 rows\n",
            "Year 2013: 9742 to 7986 rows\n",
            "Year 2014: 7643 to 6476 rows\n",
            "Year 2015: 26086 to 21774 rows\n",
            "Year 2016: 56030 to 49025 rows\n",
            "Year 2017: 51392 to 36625 rows\n",
            "Year 2018: 98855 to 78334 rows\n",
            "Year 2019: 79017 to 78342 rows\n"
          ],
          "name": "stdout"
        }
      ]
    },
    {
      "cell_type": "markdown",
      "metadata": {
        "id": "OT3nDvGvYoso",
        "colab_type": "text"
      },
      "source": [
        "To compare the programming language usage over years, we want to aggregate the usage per year first. Define functions for building a hash with the usage per language, for a single year.\n",
        "\n",
        "Start with a function for the years where all languages are stored in a single column. This function should work on the years 2016-2019, which is using different namings for their columns."
      ]
    },
    {
      "cell_type": "code",
      "metadata": {
        "id": "GymLwwSXyWpy",
        "colab_type": "code",
        "outputId": "1067e267-6d3d-4ce5-dd91-3ebc7d5ff045",
        "colab": {
          "base_uri": "https://localhost:8080/",
          "height": 90
        }
      },
      "source": [
        "def get_counts_multiple(df):\n",
        "  counts = {}\n",
        "  sep = ';'\n",
        "  for i in range(0, df.shape[0]):\n",
        "    if 'tech_do' in df.columns:\n",
        "      cell = df.tech_do[i]\n",
        "    if 'HaveWorkedLanguage' in df.columns:\n",
        "      cell = df.HaveWorkedLanguage[i]\n",
        "    if 'LanguageWorkedWith' in df.columns:\n",
        "      cell = df.LanguageWorkedWith[i]\n",
        "    cell = str(cell)\n",
        "    if cell == 'nan':\n",
        "      continue;\n",
        "    for value in str(cell).split(sep):\n",
        "      value = value.strip()\n",
        "      if value in counts:\n",
        "        counts[value] += 1\n",
        "      else:\n",
        "        counts[value] = 1\n",
        "  for i in counts:\n",
        "    counts[i] /= df.shape[0]\n",
        "  return counts;\n",
        "\n",
        "# Print results for a single language to check results.\n",
        "for i in range(2016, 2020):\n",
        "  print('Year {}: {}'.format(i, get_counts_multiple(df[i])['C++']))"
      ],
      "execution_count": 0,
      "outputs": [
        {
          "output_type": "stream",
          "text": [
            "Year 2016: 0.19559408465068842\n",
            "Year 2017: 0.22266211604095562\n",
            "Year 2018: 0.25368294737917124\n",
            "Year 2019: 0.22949375813739756\n"
          ],
          "name": "stdout"
        }
      ]
    },
    {
      "cell_type": "markdown",
      "metadata": {
        "id": "qCbeEzb71NcL",
        "colab_type": "text"
      },
      "source": [
        "Subsequently, we have to define a function to get the counts for earlier years. These have a separate column per language. Since we are only interested in popular languages in the future, we only consider languages that are still in use. That is, languages included in the 2019 survey. These columns include HTML/CSS, which is not a programming language, and \"Other(s):\". We will not use them because we are only interested in popular programming languages."
      ]
    },
    {
      "cell_type": "code",
      "metadata": {
        "id": "ZoUQwd820ZnF",
        "colab_type": "code",
        "colab": {}
      },
      "source": [
        "# Save a list of the considered languages.\n",
        "languages = ['Java', 'JavaScript', 'Python', 'C++', 'C', 'C#', 'SQL', 'VBA', 'R', 'Ruby', 'Rust', 'TypeScript', 'WebAssembly', 'Go', 'PHP', 'Assembly', 'Kotlin', 'Swift', 'Objective-C', 'Elixir', 'Erlang', 'Clojure', 'F#', 'Scala', 'Dart']"
      ],
      "execution_count": 0,
      "outputs": []
    },
    {
      "cell_type": "markdown",
      "metadata": {
        "id": "jmfOXo7JaUCa",
        "colab_type": "text"
      },
      "source": [
        "Define functions to get counts for 2011-2015 and a utility function that works for all years."
      ]
    },
    {
      "cell_type": "code",
      "metadata": {
        "id": "M_rjUuF81RgZ",
        "colab_type": "code",
        "outputId": "33780ee0-2ae7-44d1-ed89-d7ad07b1384d",
        "colab": {
          "base_uri": "https://localhost:8080/",
          "height": 182
        }
      },
      "source": [
        "def get_counts_columns(df, columns):\n",
        "  counts = {}\n",
        "  for col in columns:\n",
        "    if col in df.columns:\n",
        "      counts[col] = 1 - (df[col].isna().sum() / df.shape[0])\n",
        "    if 'Current Lang & Tech: ' + col in df.columns:\n",
        "      counts[col] = 1 - (df['Current Lang & Tech: ' + col].isna().sum() / df.shape[0])\n",
        "  return counts;\n",
        "\n",
        "def get_counts(year):\n",
        "  if (year < 2016):\n",
        "    counts = get_counts_columns(df[year], languages)\n",
        "  else:\n",
        "    counts = get_counts_multiple(df[year])\n",
        "  return counts\n",
        "\n",
        "# Print results for a single language to check results.\n",
        "for i in range(2011, 2020):\n",
        "  print('Year {}: {}'.format(i, get_counts(i)['C++']))\n"
      ],
      "execution_count": 0,
      "outputs": [
        {
          "output_type": "stream",
          "text": [
            "Year 2011: 0.29179810725552047\n",
            "Year 2012: 0.2792825768667643\n",
            "Year 2013: 0.2123716503881793\n",
            "Year 2014: 0.2189623224212477\n",
            "Year 2015: 0.2080003674106733\n",
            "Year 2016: 0.19559408465068842\n",
            "Year 2017: 0.22266211604095562\n",
            "Year 2018: 0.25368294737917124\n",
            "Year 2019: 0.22949375813739756\n"
          ],
          "name": "stdout"
        }
      ]
    },
    {
      "cell_type": "code",
      "metadata": {
        "id": "MGBMn06WpwdY",
        "colab_type": "code",
        "outputId": "c2e896b0-6c3f-49de-edbf-84006793ace2",
        "colab": {
          "base_uri": "https://localhost:8080/",
          "height": 660
        }
      },
      "source": [
        "# Print a single year for sanity check.\n",
        "get_counts(2017)"
      ],
      "execution_count": 0,
      "outputs": [
        {
          "output_type": "execute_result",
          "data": {
            "text/plain": [
              "{'Assembly': 0.04977474402730375,\n",
              " 'C': 0.19041638225255972,\n",
              " 'C#': 0.34064163822525595,\n",
              " 'C++': 0.22266211604095562,\n",
              " 'Clojure': 0.010675767918088738,\n",
              " 'CoffeeScript': 0.032546075085324234,\n",
              " 'Common Lisp': 0.007453924914675768,\n",
              " 'Dart': 0.003959044368600682,\n",
              " 'Elixir': 0.01037542662116041,\n",
              " 'Erlang': 0.007672354948805461,\n",
              " 'F#': 0.012477815699658702,\n",
              " 'Go': 0.042511945392491465,\n",
              " 'Groovy': 0.032573378839590446,\n",
              " 'Hack': 0.0029215017064846416,\n",
              " 'Haskell': 0.017720136518771332,\n",
              " 'Java': 0.39655972696245734,\n",
              " 'JavaScript': 0.6245733788395904,\n",
              " 'Julia': 0.0037679180887372015,\n",
              " 'Lua': 0.028368600682593857,\n",
              " 'Matlab': 0.04283959044368601,\n",
              " 'Objective-C': 0.06413651877133106,\n",
              " 'PHP': 0.2809556313993174,\n",
              " 'Perl': 0.04327645051194539,\n",
              " 'Python': 0.3195631399317406,\n",
              " 'R': 0.04461433447098976,\n",
              " 'Ruby': 0.09075767918088737,\n",
              " 'Rust': 0.011358361774744027,\n",
              " 'SQL': 0.5120546075085324,\n",
              " 'Scala': 0.03574061433447099,\n",
              " 'Smalltalk': 0.008928327645051195,\n",
              " 'Swift': 0.06465529010238907,\n",
              " 'TypeScript': 0.09523549488054607,\n",
              " 'VB.NET': 0.062061433447098975,\n",
              " 'VBA': 0.042976109215017065,\n",
              " 'Visual Basic 6': 0.029242320819112627}"
            ]
          },
          "metadata": {
            "tags": []
          },
          "execution_count": 20
        }
      ]
    },
    {
      "cell_type": "markdown",
      "metadata": {
        "id": "6Di3ReB_ah-u",
        "colab_type": "text"
      },
      "source": [
        "Collect all results in a single dataframe."
      ]
    },
    {
      "cell_type": "code",
      "metadata": {
        "id": "SPenehY85Woe",
        "colab_type": "code",
        "outputId": "e083b697-0dd5-4b46-a2b1-d2214572be62",
        "colab": {
          "base_uri": "https://localhost:8080/",
          "height": 352
        }
      },
      "source": [
        "usage = pd.DataFrame(index=range(2011, 2019 + 1), columns=languages, dtype=np.float)\n",
        "usage = usage.fillna(0)\n",
        "\n",
        "for year in range(2011, 2020):\n",
        "  counts = get_counts(year)\n",
        "  for lang in languages:\n",
        "    if lang in counts:\n",
        "      usage[lang][year] = counts[lang]\n",
        "\n",
        "usage"
      ],
      "execution_count": 0,
      "outputs": [
        {
          "output_type": "execute_result",
          "data": {
            "text/html": [
              "<div>\n",
              "<style scoped>\n",
              "    .dataframe tbody tr th:only-of-type {\n",
              "        vertical-align: middle;\n",
              "    }\n",
              "\n",
              "    .dataframe tbody tr th {\n",
              "        vertical-align: top;\n",
              "    }\n",
              "\n",
              "    .dataframe thead th {\n",
              "        text-align: right;\n",
              "    }\n",
              "</style>\n",
              "<table border=\"1\" class=\"dataframe\">\n",
              "  <thead>\n",
              "    <tr style=\"text-align: right;\">\n",
              "      <th></th>\n",
              "      <th>Java</th>\n",
              "      <th>JavaScript</th>\n",
              "      <th>Python</th>\n",
              "      <th>C++</th>\n",
              "      <th>C</th>\n",
              "      <th>C#</th>\n",
              "      <th>SQL</th>\n",
              "      <th>VBA</th>\n",
              "      <th>R</th>\n",
              "      <th>Ruby</th>\n",
              "      <th>Rust</th>\n",
              "      <th>TypeScript</th>\n",
              "      <th>WebAssembly</th>\n",
              "      <th>Go</th>\n",
              "      <th>PHP</th>\n",
              "      <th>Assembly</th>\n",
              "      <th>Kotlin</th>\n",
              "      <th>Swift</th>\n",
              "      <th>Objective-C</th>\n",
              "      <th>Elixir</th>\n",
              "      <th>Erlang</th>\n",
              "      <th>Clojure</th>\n",
              "      <th>F#</th>\n",
              "      <th>Scala</th>\n",
              "      <th>Dart</th>\n",
              "    </tr>\n",
              "  </thead>\n",
              "  <tbody>\n",
              "    <tr>\n",
              "      <th>2011</th>\n",
              "      <td>0.339511</td>\n",
              "      <td>0.559543</td>\n",
              "      <td>0.226735</td>\n",
              "      <td>0.291798</td>\n",
              "      <td>0.292192</td>\n",
              "      <td>0.533123</td>\n",
              "      <td>0.636041</td>\n",
              "      <td>0.000000</td>\n",
              "      <td>0.000000</td>\n",
              "      <td>0.112382</td>\n",
              "      <td>0.000000</td>\n",
              "      <td>0.000000</td>\n",
              "      <td>0.000000</td>\n",
              "      <td>0.000000</td>\n",
              "      <td>0.310726</td>\n",
              "      <td>0.000000</td>\n",
              "      <td>0.000000</td>\n",
              "      <td>0.000000</td>\n",
              "      <td>0.000000</td>\n",
              "      <td>0.000000</td>\n",
              "      <td>0.000000</td>\n",
              "      <td>0.000000</td>\n",
              "      <td>0.000000</td>\n",
              "      <td>0.000000</td>\n",
              "      <td>0.000000</td>\n",
              "    </tr>\n",
              "    <tr>\n",
              "      <th>2012</th>\n",
              "      <td>0.429722</td>\n",
              "      <td>0.572291</td>\n",
              "      <td>0.221449</td>\n",
              "      <td>0.279283</td>\n",
              "      <td>0.271596</td>\n",
              "      <td>0.451684</td>\n",
              "      <td>0.602855</td>\n",
              "      <td>0.000000</td>\n",
              "      <td>0.000000</td>\n",
              "      <td>0.105600</td>\n",
              "      <td>0.000000</td>\n",
              "      <td>0.000000</td>\n",
              "      <td>0.000000</td>\n",
              "      <td>0.000000</td>\n",
              "      <td>0.352306</td>\n",
              "      <td>0.000000</td>\n",
              "      <td>0.000000</td>\n",
              "      <td>0.000000</td>\n",
              "      <td>0.110725</td>\n",
              "      <td>0.000000</td>\n",
              "      <td>0.000000</td>\n",
              "      <td>0.000000</td>\n",
              "      <td>0.000000</td>\n",
              "      <td>0.000000</td>\n",
              "      <td>0.000000</td>\n",
              "    </tr>\n",
              "    <tr>\n",
              "      <th>2013</th>\n",
              "      <td>0.378162</td>\n",
              "      <td>0.592913</td>\n",
              "      <td>0.235412</td>\n",
              "      <td>0.212372</td>\n",
              "      <td>0.179815</td>\n",
              "      <td>0.379038</td>\n",
              "      <td>0.575131</td>\n",
              "      <td>0.000000</td>\n",
              "      <td>0.000000</td>\n",
              "      <td>0.099424</td>\n",
              "      <td>0.000000</td>\n",
              "      <td>0.077010</td>\n",
              "      <td>0.000000</td>\n",
              "      <td>0.000000</td>\n",
              "      <td>0.291009</td>\n",
              "      <td>0.000000</td>\n",
              "      <td>0.000000</td>\n",
              "      <td>0.000000</td>\n",
              "      <td>0.119584</td>\n",
              "      <td>0.000000</td>\n",
              "      <td>0.000000</td>\n",
              "      <td>0.000000</td>\n",
              "      <td>0.076133</td>\n",
              "      <td>0.000000</td>\n",
              "      <td>0.051465</td>\n",
              "    </tr>\n",
              "    <tr>\n",
              "      <th>2014</th>\n",
              "      <td>0.382798</td>\n",
              "      <td>0.584157</td>\n",
              "      <td>0.227455</td>\n",
              "      <td>0.218962</td>\n",
              "      <td>0.181285</td>\n",
              "      <td>0.367202</td>\n",
              "      <td>0.535361</td>\n",
              "      <td>0.000000</td>\n",
              "      <td>0.000000</td>\n",
              "      <td>0.091569</td>\n",
              "      <td>0.000000</td>\n",
              "      <td>0.000000</td>\n",
              "      <td>0.000000</td>\n",
              "      <td>0.096665</td>\n",
              "      <td>0.264052</td>\n",
              "      <td>0.000000</td>\n",
              "      <td>0.000000</td>\n",
              "      <td>0.000000</td>\n",
              "      <td>0.104231</td>\n",
              "      <td>0.000000</td>\n",
              "      <td>0.000000</td>\n",
              "      <td>0.000000</td>\n",
              "      <td>0.076590</td>\n",
              "      <td>0.000000</td>\n",
              "      <td>0.053274</td>\n",
              "    </tr>\n",
              "    <tr>\n",
              "      <th>2015</th>\n",
              "      <td>0.377469</td>\n",
              "      <td>0.549371</td>\n",
              "      <td>0.240562</td>\n",
              "      <td>0.208000</td>\n",
              "      <td>0.165886</td>\n",
              "      <td>0.319142</td>\n",
              "      <td>0.433499</td>\n",
              "      <td>0.000000</td>\n",
              "      <td>0.034674</td>\n",
              "      <td>0.081060</td>\n",
              "      <td>0.004730</td>\n",
              "      <td>0.000000</td>\n",
              "      <td>0.000000</td>\n",
              "      <td>0.021218</td>\n",
              "      <td>0.299853</td>\n",
              "      <td>0.000000</td>\n",
              "      <td>0.000000</td>\n",
              "      <td>0.034858</td>\n",
              "      <td>0.078947</td>\n",
              "      <td>0.000000</td>\n",
              "      <td>0.000000</td>\n",
              "      <td>0.008083</td>\n",
              "      <td>0.007991</td>\n",
              "      <td>0.024708</td>\n",
              "      <td>0.005006</td>\n",
              "    </tr>\n",
              "    <tr>\n",
              "      <th>2016</th>\n",
              "      <td>0.365977</td>\n",
              "      <td>0.558593</td>\n",
              "      <td>0.250525</td>\n",
              "      <td>0.195594</td>\n",
              "      <td>0.156614</td>\n",
              "      <td>0.311739</td>\n",
              "      <td>0.448261</td>\n",
              "      <td>0.000000</td>\n",
              "      <td>0.033289</td>\n",
              "      <td>0.089403</td>\n",
              "      <td>0.008893</td>\n",
              "      <td>0.000000</td>\n",
              "      <td>0.000000</td>\n",
              "      <td>0.031555</td>\n",
              "      <td>0.260683</td>\n",
              "      <td>0.000000</td>\n",
              "      <td>0.000000</td>\n",
              "      <td>0.056012</td>\n",
              "      <td>0.065314</td>\n",
              "      <td>0.000000</td>\n",
              "      <td>0.000000</td>\n",
              "      <td>0.011341</td>\n",
              "      <td>0.009873</td>\n",
              "      <td>0.032677</td>\n",
              "      <td>0.004528</td>\n",
              "    </tr>\n",
              "    <tr>\n",
              "      <th>2017</th>\n",
              "      <td>0.396560</td>\n",
              "      <td>0.624573</td>\n",
              "      <td>0.319563</td>\n",
              "      <td>0.222662</td>\n",
              "      <td>0.190416</td>\n",
              "      <td>0.340642</td>\n",
              "      <td>0.512055</td>\n",
              "      <td>0.042976</td>\n",
              "      <td>0.044614</td>\n",
              "      <td>0.090758</td>\n",
              "      <td>0.011358</td>\n",
              "      <td>0.095235</td>\n",
              "      <td>0.000000</td>\n",
              "      <td>0.042512</td>\n",
              "      <td>0.280956</td>\n",
              "      <td>0.049775</td>\n",
              "      <td>0.000000</td>\n",
              "      <td>0.064655</td>\n",
              "      <td>0.064137</td>\n",
              "      <td>0.010375</td>\n",
              "      <td>0.007672</td>\n",
              "      <td>0.010676</td>\n",
              "      <td>0.012478</td>\n",
              "      <td>0.035741</td>\n",
              "      <td>0.003959</td>\n",
              "    </tr>\n",
              "    <tr>\n",
              "      <th>2018</th>\n",
              "      <td>0.453456</td>\n",
              "      <td>0.698113</td>\n",
              "      <td>0.387558</td>\n",
              "      <td>0.253683</td>\n",
              "      <td>0.230321</td>\n",
              "      <td>0.344091</td>\n",
              "      <td>0.570250</td>\n",
              "      <td>0.048638</td>\n",
              "      <td>0.061442</td>\n",
              "      <td>0.100991</td>\n",
              "      <td>0.023706</td>\n",
              "      <td>0.173947</td>\n",
              "      <td>0.000000</td>\n",
              "      <td>0.070621</td>\n",
              "      <td>0.307287</td>\n",
              "      <td>0.073531</td>\n",
              "      <td>0.044783</td>\n",
              "      <td>0.080553</td>\n",
              "      <td>0.070340</td>\n",
              "      <td>0.000000</td>\n",
              "      <td>0.011311</td>\n",
              "      <td>0.013174</td>\n",
              "      <td>0.014234</td>\n",
              "      <td>0.043659</td>\n",
              "      <td>0.000000</td>\n",
              "    </tr>\n",
              "    <tr>\n",
              "      <th>2019</th>\n",
              "      <td>0.406155</td>\n",
              "      <td>0.683592</td>\n",
              "      <td>0.417273</td>\n",
              "      <td>0.229494</td>\n",
              "      <td>0.198935</td>\n",
              "      <td>0.314008</td>\n",
              "      <td>0.548658</td>\n",
              "      <td>0.053356</td>\n",
              "      <td>0.056764</td>\n",
              "      <td>0.084884</td>\n",
              "      <td>0.031733</td>\n",
              "      <td>0.216334</td>\n",
              "      <td>0.010646</td>\n",
              "      <td>0.082344</td>\n",
              "      <td>0.262745</td>\n",
              "      <td>0.062751</td>\n",
              "      <td>0.064461</td>\n",
              "      <td>0.064627</td>\n",
              "      <td>0.046808</td>\n",
              "      <td>0.014207</td>\n",
              "      <td>0.008361</td>\n",
              "      <td>0.013594</td>\n",
              "      <td>0.010850</td>\n",
              "      <td>0.037923</td>\n",
              "      <td>0.019109</td>\n",
              "    </tr>\n",
              "  </tbody>\n",
              "</table>\n",
              "</div>"
            ],
            "text/plain": [
              "          Java  JavaScript    Python  ...        F#     Scala      Dart\n",
              "2011  0.339511    0.559543  0.226735  ...  0.000000  0.000000  0.000000\n",
              "2012  0.429722    0.572291  0.221449  ...  0.000000  0.000000  0.000000\n",
              "2013  0.378162    0.592913  0.235412  ...  0.076133  0.000000  0.051465\n",
              "2014  0.382798    0.584157  0.227455  ...  0.076590  0.000000  0.053274\n",
              "2015  0.377469    0.549371  0.240562  ...  0.007991  0.024708  0.005006\n",
              "2016  0.365977    0.558593  0.250525  ...  0.009873  0.032677  0.004528\n",
              "2017  0.396560    0.624573  0.319563  ...  0.012478  0.035741  0.003959\n",
              "2018  0.453456    0.698113  0.387558  ...  0.014234  0.043659  0.000000\n",
              "2019  0.406155    0.683592  0.417273  ...  0.010850  0.037923  0.019109\n",
              "\n",
              "[9 rows x 25 columns]"
            ]
          },
          "metadata": {
            "tags": []
          },
          "execution_count": 21
        }
      ]
    },
    {
      "cell_type": "markdown",
      "metadata": {
        "id": "Acy-ipXBghv1",
        "colab_type": "text"
      },
      "source": [
        "## Modeling\n",
        "\n",
        "To predict the usage in the future, we want to find a function that calculates the usage in terms of the year. Linear regression can be used to find such functions. We combine this with a polynomial function to model a curve. For this, we have to decide on the degree to use. A 2nd-degree can only be a straight line or hyperbola, but a 3th-degree can have a wave that goes up, down and up again (or vice versa). This might be expected for some languages. A 4th-degree curve is likely to overfit our data. Therefore, we use a 3th-degree polynomial function.\n",
        "\n",
        "Define a function that calculates the coëfficients for each langauge."
      ]
    },
    {
      "cell_type": "code",
      "metadata": {
        "id": "URb7IicL0a-E",
        "colab_type": "code",
        "outputId": "fc091b89-b6f0-4dc6-c2d8-82c3ed9743a6",
        "colab": {
          "base_uri": "https://localhost:8080/",
          "height": 206
        }
      },
      "source": [
        "def fit_curves(usage, degree = 3):\n",
        "  out = pd.DataFrame(index=usage.columns, columns=range(0, degree + 1))\n",
        "  for col in usage.columns:\n",
        "    X = list(map(lambda item : [item], usage.index))\n",
        "    y = usage[col].values\n",
        "    \n",
        "    # Strip the first years where usage is zero.\n",
        "    skip = 0\n",
        "    for year in usage.index:\n",
        "      if usage[col][year] == 0:\n",
        "        skip += 1\n",
        "      else:\n",
        "        break\n",
        "\n",
        "    X = X[skip:]\n",
        "    y = y[skip:]\n",
        "    \n",
        "    poly = PolynomialFeatures(degree=degree)\n",
        "    X_poly = poly.fit_transform(X)\n",
        "\n",
        "    poly_model = LinearRegression(fit_intercept = True).fit(X_poly, y)\n",
        "    \n",
        "    out[0][col] = poly_model.intercept_\n",
        "    for i in range(1, degree + 1):\n",
        "      out[i][col] = poly_model.coef_[i]\n",
        "\n",
        "  return out\n",
        "\n",
        "curves = fit_curves(usage, 3)\n",
        "curves.head()\n",
        "    "
      ],
      "execution_count": 0,
      "outputs": [
        {
          "output_type": "execute_result",
          "data": {
            "text/html": [
              "<div>\n",
              "<style scoped>\n",
              "    .dataframe tbody tr th:only-of-type {\n",
              "        vertical-align: middle;\n",
              "    }\n",
              "\n",
              "    .dataframe tbody tr th {\n",
              "        vertical-align: top;\n",
              "    }\n",
              "\n",
              "    .dataframe thead th {\n",
              "        text-align: right;\n",
              "    }\n",
              "</style>\n",
              "<table border=\"1\" class=\"dataframe\">\n",
              "  <thead>\n",
              "    <tr style=\"text-align: right;\">\n",
              "      <th></th>\n",
              "      <th>0</th>\n",
              "      <th>1</th>\n",
              "      <th>2</th>\n",
              "      <th>3</th>\n",
              "    </tr>\n",
              "  </thead>\n",
              "  <tbody>\n",
              "    <tr>\n",
              "      <th>Java</th>\n",
              "      <td>-4.67089e+06</td>\n",
              "      <td>6955.46</td>\n",
              "      <td>-3.45247</td>\n",
              "      <td>0.000571233</td>\n",
              "    </tr>\n",
              "    <tr>\n",
              "      <th>JavaScript</th>\n",
              "      <td>-4.62923e+06</td>\n",
              "      <td>6899.88</td>\n",
              "      <td>-3.42809</td>\n",
              "      <td>0.00056773</td>\n",
              "    </tr>\n",
              "    <tr>\n",
              "      <th>Python</th>\n",
              "      <td>-1.37738e+06</td>\n",
              "      <td>2061.36</td>\n",
              "      <td>-1.02832</td>\n",
              "      <td>0.000170992</td>\n",
              "    </tr>\n",
              "    <tr>\n",
              "      <th>C++</th>\n",
              "      <td>4.26578e+06</td>\n",
              "      <td>-6343.1</td>\n",
              "      <td>3.144</td>\n",
              "      <td>-0.000519448</td>\n",
              "    </tr>\n",
              "    <tr>\n",
              "      <th>C</th>\n",
              "      <td>6.45045e+06</td>\n",
              "      <td>-9592.21</td>\n",
              "      <td>4.75473</td>\n",
              "      <td>-0.000785618</td>\n",
              "    </tr>\n",
              "  </tbody>\n",
              "</table>\n",
              "</div>"
            ],
            "text/plain": [
              "                      0        1        2            3\n",
              "Java       -4.67089e+06  6955.46 -3.45247  0.000571233\n",
              "JavaScript -4.62923e+06  6899.88 -3.42809   0.00056773\n",
              "Python     -1.37738e+06  2061.36 -1.02832  0.000170992\n",
              "C++         4.26578e+06  -6343.1    3.144 -0.000519448\n",
              "C           6.45045e+06 -9592.21  4.75473 -0.000785618"
            ]
          },
          "metadata": {
            "tags": []
          },
          "execution_count": 22
        }
      ]
    },
    {
      "cell_type": "markdown",
      "metadata": {
        "id": "gnZ5OuKsiajG",
        "colab_type": "text"
      },
      "source": [
        "The curve is defined by the function $y = c_0x^0 + c_1x^1 + c_2x^2 + c_3x^3 = c_0 + c_1x + c_2x^2 + c_3x^3$, where $y$ is the usage, $x$ is the year and $c_n$ is the coëfficient.\n",
        "\n",
        "The column name is the degree of the coëfficient.\n",
        "For example, for Java, the curve is $-506000 + 7530x + -3.74x^2 + 0.000618x^3$ (coéfficients rounded to 3 significant figures).\n",
        "\n",
        "Now define a function that usages this table to predict to usage in a given year and add our predictions to the `curves` table."
      ]
    },
    {
      "cell_type": "code",
      "metadata": {
        "id": "GLkQSBRK4Oqq",
        "colab_type": "code",
        "outputId": "08705b0b-1e84-4732-f88d-e8ae5509b68e",
        "colab": {
          "base_uri": "https://localhost:8080/",
          "height": 834
        }
      },
      "source": [
        "def predict_year(curves, year, degrees = 3):\n",
        "  colname = str(year)\n",
        "  pred = curves.copy()[0]\n",
        "  for i in range(1, degrees + 1):\n",
        "    pred += curves[i] * year ** i\n",
        "  # Values below 0 or above 1 don't make sense in our context.\n",
        "  pred = pred.map(lambda item : max(0, min(1, item)))\n",
        "  args = {colname: pred}\n",
        "  curves = curves.assign(**args)\n",
        "  return curves\n",
        "\n",
        "# Add predictions to the curves dataframe.\n",
        "for year in range(2020, 2026):\n",
        "  curves = predict_year(curves, year)\n",
        "\n",
        "# Print the fast risers.\n",
        "curves.sort_values(by=3, ascending=False)"
      ],
      "execution_count": 0,
      "outputs": [
        {
          "output_type": "execute_result",
          "data": {
            "text/html": [
              "<div>\n",
              "<style scoped>\n",
              "    .dataframe tbody tr th:only-of-type {\n",
              "        vertical-align: middle;\n",
              "    }\n",
              "\n",
              "    .dataframe tbody tr th {\n",
              "        vertical-align: top;\n",
              "    }\n",
              "\n",
              "    .dataframe thead th {\n",
              "        text-align: right;\n",
              "    }\n",
              "</style>\n",
              "<table border=\"1\" class=\"dataframe\">\n",
              "  <thead>\n",
              "    <tr style=\"text-align: right;\">\n",
              "      <th></th>\n",
              "      <th>0</th>\n",
              "      <th>1</th>\n",
              "      <th>2</th>\n",
              "      <th>3</th>\n",
              "      <th>2020</th>\n",
              "      <th>2021</th>\n",
              "      <th>2022</th>\n",
              "      <th>2023</th>\n",
              "      <th>2024</th>\n",
              "      <th>2025</th>\n",
              "    </tr>\n",
              "  </thead>\n",
              "  <tbody>\n",
              "    <tr>\n",
              "      <th>Dart</th>\n",
              "      <td>-4.97453e+06</td>\n",
              "      <td>7409.98</td>\n",
              "      <td>-3.67925</td>\n",
              "      <td>0.000608946</td>\n",
              "      <td>0.056211</td>\n",
              "      <td>0.114704</td>\n",
              "      <td>0.198780</td>\n",
              "      <td>0.312092</td>\n",
              "      <td>0.458294</td>\n",
              "      <td>0.641040</td>\n",
              "    </tr>\n",
              "    <tr>\n",
              "      <th>Java</th>\n",
              "      <td>-4.67089e+06</td>\n",
              "      <td>6955.46</td>\n",
              "      <td>-3.45247</td>\n",
              "      <td>0.000571233</td>\n",
              "      <td>0.471243</td>\n",
              "      <td>0.529388</td>\n",
              "      <td>0.609361</td>\n",
              "      <td>0.714590</td>\n",
              "      <td>0.848502</td>\n",
              "      <td>1.000000</td>\n",
              "    </tr>\n",
              "    <tr>\n",
              "      <th>JavaScript</th>\n",
              "      <td>-4.62923e+06</td>\n",
              "      <td>6899.88</td>\n",
              "      <td>-3.42809</td>\n",
              "      <td>0.00056773</td>\n",
              "      <td>0.786306</td>\n",
              "      <td>0.888665</td>\n",
              "      <td>1.000000</td>\n",
              "      <td>1.000000</td>\n",
              "      <td>1.000000</td>\n",
              "      <td>1.000000</td>\n",
              "    </tr>\n",
              "    <tr>\n",
              "      <th>SQL</th>\n",
              "      <td>-4.15936e+06</td>\n",
              "      <td>6208.54</td>\n",
              "      <td>-3.08906</td>\n",
              "      <td>0.000512317</td>\n",
              "      <td>0.663650</td>\n",
              "      <td>0.780033</td>\n",
              "      <td>0.930646</td>\n",
              "      <td>1.000000</td>\n",
              "      <td>1.000000</td>\n",
              "      <td>1.000000</td>\n",
              "    </tr>\n",
              "    <tr>\n",
              "      <th>Objective-C</th>\n",
              "      <td>-2.48273e+06</td>\n",
              "      <td>3696.27</td>\n",
              "      <td>-1.83432</td>\n",
              "      <td>0.000303434</td>\n",
              "      <td>0.059074</td>\n",
              "      <td>0.073174</td>\n",
              "      <td>0.098072</td>\n",
              "      <td>0.135591</td>\n",
              "      <td>0.187549</td>\n",
              "      <td>0.255769</td>\n",
              "    </tr>\n",
              "    <tr>\n",
              "      <th>Python</th>\n",
              "      <td>-1.37738e+06</td>\n",
              "      <td>2061.36</td>\n",
              "      <td>-1.02832</td>\n",
              "      <td>0.000170992</td>\n",
              "      <td>0.510576</td>\n",
              "      <td>0.606867</td>\n",
              "      <td>0.719958</td>\n",
              "      <td>0.850878</td>\n",
              "      <td>1.000000</td>\n",
              "      <td>1.000000</td>\n",
              "    </tr>\n",
              "    <tr>\n",
              "      <th>Clojure</th>\n",
              "      <td>-1.2641e+06</td>\n",
              "      <td>1879.8</td>\n",
              "      <td>-0.931796</td>\n",
              "      <td>0.000153961</td>\n",
              "      <td>0.016569</td>\n",
              "      <td>0.021770</td>\n",
              "      <td>0.030306</td>\n",
              "      <td>0.043101</td>\n",
              "      <td>0.061077</td>\n",
              "      <td>0.085160</td>\n",
              "    </tr>\n",
              "    <tr>\n",
              "      <th>Elixir</th>\n",
              "      <td>16682</td>\n",
              "      <td>-6.0903e-06</td>\n",
              "      <td>-0.0122902</td>\n",
              "      <td>4.06036e-06</td>\n",
              "      <td>0.053021</td>\n",
              "      <td>0.116465</td>\n",
              "      <td>0.204566</td>\n",
              "      <td>0.317346</td>\n",
              "      <td>0.454830</td>\n",
              "      <td>0.617043</td>\n",
              "    </tr>\n",
              "    <tr>\n",
              "      <th>Kotlin</th>\n",
              "      <td>-13.1856</td>\n",
              "      <td>1.31714e-16</td>\n",
              "      <td>5.31729e-13</td>\n",
              "      <td>1.60994e-09</td>\n",
              "      <td>0.084159</td>\n",
              "      <td>0.103876</td>\n",
              "      <td>0.123613</td>\n",
              "      <td>0.143370</td>\n",
              "      <td>0.163145</td>\n",
              "      <td>0.182941</td>\n",
              "    </tr>\n",
              "    <tr>\n",
              "      <th>WebAssembly</th>\n",
              "      <td>0.0106456</td>\n",
              "      <td>0</td>\n",
              "      <td>0</td>\n",
              "      <td>0</td>\n",
              "      <td>0.010646</td>\n",
              "      <td>0.010646</td>\n",
              "      <td>0.010646</td>\n",
              "      <td>0.010646</td>\n",
              "      <td>0.010646</td>\n",
              "      <td>0.010646</td>\n",
              "    </tr>\n",
              "    <tr>\n",
              "      <th>VBA</th>\n",
              "      <td>-647.551</td>\n",
              "      <td>2.35135e-07</td>\n",
              "      <td>0.000474502</td>\n",
              "      <td>-1.56332e-07</td>\n",
              "      <td>0.057129</td>\n",
              "      <td>0.059956</td>\n",
              "      <td>0.061837</td>\n",
              "      <td>0.062770</td>\n",
              "      <td>0.062755</td>\n",
              "      <td>0.061790</td>\n",
              "    </tr>\n",
              "    <tr>\n",
              "      <th>Erlang</th>\n",
              "      <td>-4471.83</td>\n",
              "      <td>1.63238e-06</td>\n",
              "      <td>0.00329415</td>\n",
              "      <td>-1.08823e-06</td>\n",
              "      <td>0.000000</td>\n",
              "      <td>0.000000</td>\n",
              "      <td>0.000000</td>\n",
              "      <td>0.000000</td>\n",
              "      <td>0.000000</td>\n",
              "      <td>0.000000</td>\n",
              "    </tr>\n",
              "    <tr>\n",
              "      <th>Assembly</th>\n",
              "      <td>-23449.9</td>\n",
              "      <td>8.55891e-06</td>\n",
              "      <td>0.0172719</td>\n",
              "      <td>-5.70541e-06</td>\n",
              "      <td>0.017398</td>\n",
              "      <td>0.000000</td>\n",
              "      <td>0.000000</td>\n",
              "      <td>0.000000</td>\n",
              "      <td>0.000000</td>\n",
              "      <td>0.000000</td>\n",
              "    </tr>\n",
              "    <tr>\n",
              "      <th>PHP</th>\n",
              "      <td>1.35672e+06</td>\n",
              "      <td>-2017.35</td>\n",
              "      <td>0.999885</td>\n",
              "      <td>-0.000165195</td>\n",
              "      <td>0.275541</td>\n",
              "      <td>0.270685</td>\n",
              "      <td>0.262439</td>\n",
              "      <td>0.249811</td>\n",
              "      <td>0.231811</td>\n",
              "      <td>0.207447</td>\n",
              "    </tr>\n",
              "    <tr>\n",
              "      <th>Ruby</th>\n",
              "      <td>1.5234e+06</td>\n",
              "      <td>-2266.46</td>\n",
              "      <td>1.12398</td>\n",
              "      <td>-0.000185801</td>\n",
              "      <td>0.085841</td>\n",
              "      <td>0.077680</td>\n",
              "      <td>0.064454</td>\n",
              "      <td>0.045050</td>\n",
              "      <td>0.018351</td>\n",
              "      <td>0.000000</td>\n",
              "    </tr>\n",
              "    <tr>\n",
              "      <th>F#</th>\n",
              "      <td>1.78536e+06</td>\n",
              "      <td>-2648.75</td>\n",
              "      <td>1.30988</td>\n",
              "      <td>-0.000215923</td>\n",
              "      <td>0.024557</td>\n",
              "      <td>0.037422</td>\n",
              "      <td>0.051767</td>\n",
              "      <td>0.066297</td>\n",
              "      <td>0.079717</td>\n",
              "      <td>0.090731</td>\n",
              "    </tr>\n",
              "    <tr>\n",
              "      <th>Rust</th>\n",
              "      <td>1.80941e+06</td>\n",
              "      <td>-2688.71</td>\n",
              "      <td>1.33177</td>\n",
              "      <td>-0.000219883</td>\n",
              "      <td>0.041824</td>\n",
              "      <td>0.050122</td>\n",
              "      <td>0.055661</td>\n",
              "      <td>0.057122</td>\n",
              "      <td>0.053184</td>\n",
              "      <td>0.042530</td>\n",
              "    </tr>\n",
              "    <tr>\n",
              "      <th>C++</th>\n",
              "      <td>4.26578e+06</td>\n",
              "      <td>-6343.1</td>\n",
              "      <td>3.144</td>\n",
              "      <td>-0.000519448</td>\n",
              "      <td>0.245274</td>\n",
              "      <td>0.242002</td>\n",
              "      <td>0.227908</td>\n",
              "      <td>0.199875</td>\n",
              "      <td>0.154787</td>\n",
              "      <td>0.089527</td>\n",
              "    </tr>\n",
              "    <tr>\n",
              "      <th>Scala</th>\n",
              "      <td>6.00053e+06</td>\n",
              "      <td>-8928.18</td>\n",
              "      <td>4.42808</td>\n",
              "      <td>-0.000732058</td>\n",
              "      <td>0.022513</td>\n",
              "      <td>0.000000</td>\n",
              "      <td>0.000000</td>\n",
              "      <td>0.000000</td>\n",
              "      <td>0.000000</td>\n",
              "      <td>0.000000</td>\n",
              "    </tr>\n",
              "    <tr>\n",
              "      <th>C</th>\n",
              "      <td>6.45045e+06</td>\n",
              "      <td>-9592.21</td>\n",
              "      <td>4.75473</td>\n",
              "      <td>-0.000785618</td>\n",
              "      <td>0.218009</td>\n",
              "      <td>0.209873</td>\n",
              "      <td>0.184801</td>\n",
              "      <td>0.138079</td>\n",
              "      <td>0.064994</td>\n",
              "      <td>0.000000</td>\n",
              "    </tr>\n",
              "    <tr>\n",
              "      <th>C#</th>\n",
              "      <td>9.09327e+06</td>\n",
              "      <td>-13526.1</td>\n",
              "      <td>6.70664</td>\n",
              "      <td>-0.00110845</td>\n",
              "      <td>0.300798</td>\n",
              "      <td>0.257634</td>\n",
              "      <td>0.186706</td>\n",
              "      <td>0.081364</td>\n",
              "      <td>0.000000</td>\n",
              "      <td>0.000000</td>\n",
              "    </tr>\n",
              "    <tr>\n",
              "      <th>Swift</th>\n",
              "      <td>1.32395e+07</td>\n",
              "      <td>-19701.6</td>\n",
              "      <td>9.77253</td>\n",
              "      <td>-0.00161582</td>\n",
              "      <td>0.024772</td>\n",
              "      <td>0.000000</td>\n",
              "      <td>0.000000</td>\n",
              "      <td>0.000000</td>\n",
              "      <td>0.000000</td>\n",
              "      <td>0.000000</td>\n",
              "    </tr>\n",
              "    <tr>\n",
              "      <th>R</th>\n",
              "      <td>2.34766e+07</td>\n",
              "      <td>-34918.2</td>\n",
              "      <td>17.312</td>\n",
              "      <td>-0.00286103</td>\n",
              "      <td>0.018989</td>\n",
              "      <td>0.000000</td>\n",
              "      <td>0.000000</td>\n",
              "      <td>0.000000</td>\n",
              "      <td>0.000000</td>\n",
              "      <td>0.000000</td>\n",
              "    </tr>\n",
              "    <tr>\n",
              "      <th>TypeScript</th>\n",
              "      <td>2.98166e+07</td>\n",
              "      <td>-44341.6</td>\n",
              "      <td>21.9808</td>\n",
              "      <td>-0.00363206</td>\n",
              "      <td>0.241773</td>\n",
              "      <td>0.203323</td>\n",
              "      <td>0.084125</td>\n",
              "      <td>0.000000</td>\n",
              "      <td>0.000000</td>\n",
              "      <td>0.000000</td>\n",
              "    </tr>\n",
              "    <tr>\n",
              "      <th>Go</th>\n",
              "      <td>3.51664e+07</td>\n",
              "      <td>-52299.6</td>\n",
              "      <td>25.9268</td>\n",
              "      <td>-0.00428427</td>\n",
              "      <td>0.042685</td>\n",
              "      <td>0.000000</td>\n",
              "      <td>0.000000</td>\n",
              "      <td>0.000000</td>\n",
              "      <td>0.000000</td>\n",
              "      <td>0.000000</td>\n",
              "    </tr>\n",
              "  </tbody>\n",
              "</table>\n",
              "</div>"
            ],
            "text/plain": [
              "                       0            1  ...      2024      2025\n",
              "Dart        -4.97453e+06      7409.98  ...  0.458294  0.641040\n",
              "Java        -4.67089e+06      6955.46  ...  0.848502  1.000000\n",
              "JavaScript  -4.62923e+06      6899.88  ...  1.000000  1.000000\n",
              "SQL         -4.15936e+06      6208.54  ...  1.000000  1.000000\n",
              "Objective-C -2.48273e+06      3696.27  ...  0.187549  0.255769\n",
              "Python      -1.37738e+06      2061.36  ...  1.000000  1.000000\n",
              "Clojure      -1.2641e+06       1879.8  ...  0.061077  0.085160\n",
              "Elixir             16682  -6.0903e-06  ...  0.454830  0.617043\n",
              "Kotlin          -13.1856  1.31714e-16  ...  0.163145  0.182941\n",
              "WebAssembly    0.0106456            0  ...  0.010646  0.010646\n",
              "VBA             -647.551  2.35135e-07  ...  0.062755  0.061790\n",
              "Erlang          -4471.83  1.63238e-06  ...  0.000000  0.000000\n",
              "Assembly        -23449.9  8.55891e-06  ...  0.000000  0.000000\n",
              "PHP          1.35672e+06     -2017.35  ...  0.231811  0.207447\n",
              "Ruby          1.5234e+06     -2266.46  ...  0.018351  0.000000\n",
              "F#           1.78536e+06     -2648.75  ...  0.079717  0.090731\n",
              "Rust         1.80941e+06     -2688.71  ...  0.053184  0.042530\n",
              "C++          4.26578e+06      -6343.1  ...  0.154787  0.089527\n",
              "Scala        6.00053e+06     -8928.18  ...  0.000000  0.000000\n",
              "C            6.45045e+06     -9592.21  ...  0.064994  0.000000\n",
              "C#           9.09327e+06     -13526.1  ...  0.000000  0.000000\n",
              "Swift        1.32395e+07     -19701.6  ...  0.000000  0.000000\n",
              "R            2.34766e+07     -34918.2  ...  0.000000  0.000000\n",
              "TypeScript   2.98166e+07     -44341.6  ...  0.000000  0.000000\n",
              "Go           3.51664e+07     -52299.6  ...  0.000000  0.000000\n",
              "\n",
              "[25 rows x 10 columns]"
            ]
          },
          "metadata": {
            "tags": []
          },
          "execution_count": 23
        }
      ]
    },
    {
      "cell_type": "markdown",
      "metadata": {
        "id": "cfVFCzbUkwA9",
        "colab_type": "text"
      },
      "source": [
        "## Evaluation\n",
        "\n",
        "Build a graph to visualize the results. This visualization should include both the usage as provided by the StackOverflow surveys, as well as the curves used for our prediction. Since we want to know which languages are popular in 2022, we have to clearly mark this date in the graph. Also, we want the top-10 languages in 2022 and have the most popular languages listed first."
      ]
    },
    {
      "cell_type": "code",
      "metadata": {
        "id": "FpCqRCXU9Vr0",
        "colab_type": "code",
        "outputId": "46c3279c-c0e3-420c-e432-61ddb811e7a4",
        "colab": {
          "base_uri": "https://localhost:8080/",
          "height": 513
        }
      },
      "source": [
        "def plot_curves(curves, usage, title='Programming languages', degrees=3):\n",
        "  # Initialize figure.\n",
        "  plt.figure(figsize=(16,8))\n",
        "  axes = plt.gca()\n",
        "  axes.set_xlim([2010, 2023])\n",
        "  axes.set_ylim([0, 100])\n",
        "  \n",
        "  # Plot a vertical line in 2022.\n",
        "  plt.axvline(x=2022, color=\"#cccccc\")\n",
        "  \n",
        "  # Plot horizontal lines for readability.\n",
        "  plt.axhline(y=80, color=\"#cccccc\")\n",
        "  plt.axhline(y=60, color=\"#cccccc\")\n",
        "  plt.axhline(y=40, color=\"#cccccc\")\n",
        "  plt.axhline(y=20, color=\"#cccccc\")\n",
        "  \n",
        "  colors = ['#DA4453', '#E9573F', '#4AB9DC', '#967ADC', '#F6BB42', '#BCC152', '#D770AD', '#37BC9B', '#3BAFDA', '#434A54']\n",
        "  index = 0\n",
        "  for lang in list(curves.index):\n",
        "    # Define a new line and apply each coéfficient.\n",
        "    x = np.linspace(2010, 2023, 256, endpoint = True)\n",
        "    y = x * 0\n",
        "    for i in range(0, degrees + 1):\n",
        "      y += curves[i][lang] * x ** i\n",
        "    y *= 100\n",
        "    \n",
        "    index += 1\n",
        "    color = colors[index % len(colors)]\n",
        "    width = 0.06\n",
        "    linetype = '-'\n",
        "    \n",
        "    # Mark declining languages with a dashed line.\n",
        "    if curves[3][lang] < 0:\n",
        "      linetype = '--'\n",
        "    \n",
        "    # Plot the line.\n",
        "    plt.plot(x, y, linetype, color=color, label=lang)\n",
        "    \n",
        "    # Plot the bar.\n",
        "    offset = width * len(list(curves.index)) / 2\n",
        "    plt.bar(pd.Series(list(usage.index)) + width * index - offset, usage[lang] * 100, width=width, color=color)\n",
        "  \n",
        "  plt.xlabel('year')\n",
        "  plt.ylabel('percent usage')\n",
        "  plt.title(title)\n",
        "  plt.legend(loc='upper left')\n",
        "\n",
        "  plt.show()\n",
        "\n",
        "plot_curves(curves.sort_values(by='2022', ascending=False)[0:10], usage, title='Most used languages in 2022')"
      ],
      "execution_count": 0,
      "outputs": [
        {
          "output_type": "display_data",
          "data": {
            "image/png": "[encoded data removed]",
            "text/plain": [
              "<Figure size 1152x576 with 1 Axes>"
            ]
          },
          "metadata": {
            "tags": []
          }
        }
      ]
    },
    {
      "cell_type": "markdown",
      "metadata": {
        "id": "8Rm0hi9-mAzx",
        "colab_type": "text"
      },
      "source": [
        "This function is re-usable and can also be used to plot the fastest declining languages in the long-term. That is, the languages with the lowest values for the highest polynomial."
      ]
    },
    {
      "cell_type": "code",
      "metadata": {
        "id": "M8VF10_1Jesz",
        "colab_type": "code",
        "outputId": "bf879a72-6fc3-4216-f08c-1656f8bfaa7a",
        "colab": {
          "base_uri": "https://localhost:8080/",
          "height": 513
        }
      },
      "source": [
        "plot_curves(curves.sort_values(by=3, ascending=True)[0:10], usage, title='Fastest declining languages')"
      ],
      "execution_count": 0,
      "outputs": [
        {
          "output_type": "display_data",
          "data": {
            "image/png": "[encoded data removed]",
            "text/plain": [
              "<Figure size 1152x576 with 1 Axes>"
            ]
          },
          "metadata": {
            "tags": []
          }
        }
      ]
    },
    {
      "cell_type": "markdown",
      "metadata": {
        "id": "pmbjjTbDZKyf",
        "colab_type": "text"
      },
      "source": [
        "## Evaluation\n",
        "\n",
        "The first chart gives a clear view of the languages that are popular in 2022. It answers the question and provides additional information on why it got to these results.\n",
        "\n",
        "The second chart is optional but interesting enough to include in the blog post."
      ]
    },
    {
      "cell_type": "markdown",
      "metadata": {
        "id": "i_0i-8gzmSKy",
        "colab_type": "text"
      },
      "source": [
        "# Who is already using the most popular languages from 2022?\n",
        "\n",
        "This question considers what data can be used to predict if someone is using a popular language or not. More specific, we want to know who is using it *right now*. Therefore, we use the most recent data for this analysis, which is from 2019 at the time of writing.\n",
        "\n",
        "We are interested in the features that gives the best split between people that use the language and people who don't. But it is not likely we can tell this from a single feature, so we want to take more features into account. A decision tree does this by examining a single feature at a time, always taking the feature that gives the best split. There are numerous other methods that can be used, but I chose the decision tree because its results can be easily understood.\n",
        "\n",
        "We will answer this question separately for the top-3 popular languages from 2022, namely JavaScript, SQL and Python.\n"
      ]
    },
    {
      "cell_type": "markdown",
      "metadata": {
        "id": "c8elMMUpo1w7",
        "colab_type": "text"
      },
      "source": [
        "## Data preparation\n",
        "\n",
        "For each of the top-3 popular languages, we add a feature that indicates if this person is using that language. This feature is not available yet in the 2019 dataset since it stores all used languages in a single column.\n",
        "\n",
        "We have to one-hot encode the categorical values and use the imputer to fill NA's before we can run the Decision Tree classifier. The default `pd.get_dummies` cannot be used for all columns since some of them have multiple values separated by a semicolon. We use our custom function for these columns. Note that this function also adds columns per language, such as `LanguageWorkedWith_python`, which we can use for filtering. Also, we will drop columns with answers to StackOverflow specific questions. This does not say much about the developer and thus is not the data we're looking for.\n",
        "\n",
        "The Imputer is used to fill remaining NA's by replacing them with the mean. Columns with high missing values were already dropped. Therefore, this should not affect our analysis too much."
      ]
    },
    {
      "cell_type": "code",
      "metadata": {
        "id": "F8Vz0Ocm1Wf6",
        "colab_type": "code",
        "outputId": "607295c6-c5bb-4872-8669-ed5087805d45",
        "colab": {
          "base_uri": "https://localhost:8080/",
          "height": 54
        }
      },
      "source": [
        "df_clean = df[2019]\n",
        "\n",
        "# One-hot encoding for columns with multiple values.\n",
        "def get_dummies_multiple(df, column, sep=';'):\n",
        "  df = df.copy()\n",
        "  for i in range(0, df.shape[0]):\n",
        "    cell = df[column][i]\n",
        "    if cell == '' or pd.isnull(cell):\n",
        "      continue;\n",
        "    for value in str(cell).split(sep):\n",
        "      value = value.strip()\n",
        "      dummy_col = column + '_' + value\n",
        "      if not dummy_col in df.columns:\n",
        "        df[dummy_col] = 0\n",
        "      df.at[i, dummy_col] = 1\n",
        "  return df.drop(column, axis=1)\n",
        "\n",
        "# Apply one-hot encoding for fields with multiple values.\n",
        "columns_multi = ['LanguageWorkedWith', 'LanguageDesireNextYear', 'DatabaseWorkedWith', 'PlatformWorkedWith', 'PlatformDesireNextYear', 'DevEnviron', 'SOVisitTo', 'Ethnicity', 'Gender', 'Sexuality', 'EduOther', 'DevType', 'JobFactors']\n",
        "for column in columns_multi:\n",
        "  df_clean = get_dummies_multiple(df_clean, column)\n",
        "\n",
        "# Drop StackOverflow specific columns we're not particulary interested in.\n",
        "df_clean = df_clean.drop(['SOVisit1st', 'SOVisitFreq', 'SOFindAnswer', 'SOTimeSaved', 'SOAccount', 'SOPartFreq', 'SOJobs'], axis=1)\n",
        "\n",
        "# Print the number of rows and cols before one-hot encoding.\n",
        "print(df_clean.shape)\n",
        "\n",
        "# Apply one-hot encoding for all columns containing strings.\n",
        "string_columns = df_clean.columns[df_clean.dtypes == 'object']\n",
        "df_clean = pd.get_dummies(df_clean, columns=string_columns)\n",
        "\n",
        "# Use imputer to fill NA's.\n",
        "imp = SimpleImputer(missing_values=np.nan, strategy='mean')\n",
        "df_imp = pd.DataFrame(imp.fit_transform(df_clean))\n",
        "df_imp.columns = df_clean.columns\n",
        "df_imp.index = df_clean.index\n",
        "df_clean = df_imp\n",
        "\n",
        "# Print shape after cleaning.\n",
        "print(df_clean.shape)\n"
      ],
      "execution_count": 0,
      "outputs": [
        {
          "output_type": "stream",
          "text": [
            "(78342, 232)\n",
            "(78342, 987)\n"
          ],
          "name": "stdout"
        }
      ]
    },
    {
      "cell_type": "code",
      "metadata": {
        "id": "EEuG66hWdVJC",
        "colab_type": "code",
        "outputId": "acaef3ab-e933-47ed-cbc3-b435e7b1b626",
        "colab": {
          "base_uri": "https://localhost:8080/",
          "height": 360
        }
      },
      "source": [
        "df_clean.head()"
      ],
      "execution_count": 0,
      "outputs": [
        {
          "output_type": "execute_result",
          "data": {
            "text/html": [
              "<div>\n",
              "<style scoped>\n",
              "    .dataframe tbody tr th:only-of-type {\n",
              "        vertical-align: middle;\n",
              "    }\n",
              "\n",
              "    .dataframe tbody tr th {\n",
              "        vertical-align: top;\n",
              "    }\n",
              "\n",
              "    .dataframe thead th {\n",
              "        text-align: right;\n",
              "    }\n",
              "</style>\n",
              "<table border=\"1\" class=\"dataframe\">\n",
              "  <thead>\n",
              "    <tr style=\"text-align: right;\">\n",
              "      <th></th>\n",
              "      <th>Respondent</th>\n",
              "      <th>Age</th>\n",
              "      <th>LanguageWorkedWith_HTML/CSS</th>\n",
              "      <th>LanguageWorkedWith_Java</th>\n",
              "      <th>LanguageWorkedWith_JavaScript</th>\n",
              "      <th>LanguageWorkedWith_Python</th>\n",
              "      <th>LanguageWorkedWith_C++</th>\n",
              "      <th>LanguageWorkedWith_C</th>\n",
              "      <th>LanguageWorkedWith_C#</th>\n",
              "      <th>LanguageWorkedWith_SQL</th>\n",
              "      <th>LanguageWorkedWith_VBA</th>\n",
              "      <th>LanguageWorkedWith_R</th>\n",
              "      <th>LanguageWorkedWith_Bash/Shell/PowerShell</th>\n",
              "      <th>LanguageWorkedWith_Ruby</th>\n",
              "      <th>LanguageWorkedWith_Rust</th>\n",
              "      <th>LanguageWorkedWith_TypeScript</th>\n",
              "      <th>LanguageWorkedWith_WebAssembly</th>\n",
              "      <th>LanguageWorkedWith_Other(s):</th>\n",
              "      <th>LanguageWorkedWith_PHP</th>\n",
              "      <th>LanguageWorkedWith_Assembly</th>\n",
              "      <th>LanguageWorkedWith_Swift</th>\n",
              "      <th>LanguageWorkedWith_Kotlin</th>\n",
              "      <th>LanguageWorkedWith_Objective-C</th>\n",
              "      <th>LanguageWorkedWith_Elixir</th>\n",
              "      <th>LanguageWorkedWith_Erlang</th>\n",
              "      <th>LanguageWorkedWith_Go</th>\n",
              "      <th>LanguageWorkedWith_Clojure</th>\n",
              "      <th>LanguageWorkedWith_F#</th>\n",
              "      <th>LanguageWorkedWith_Scala</th>\n",
              "      <th>LanguageWorkedWith_Dart</th>\n",
              "      <th>LanguageDesireNextYear_C</th>\n",
              "      <th>LanguageDesireNextYear_C++</th>\n",
              "      <th>LanguageDesireNextYear_C#</th>\n",
              "      <th>LanguageDesireNextYear_Go</th>\n",
              "      <th>LanguageDesireNextYear_HTML/CSS</th>\n",
              "      <th>LanguageDesireNextYear_Java</th>\n",
              "      <th>LanguageDesireNextYear_JavaScript</th>\n",
              "      <th>LanguageDesireNextYear_Python</th>\n",
              "      <th>LanguageDesireNextYear_SQL</th>\n",
              "      <th>LanguageDesireNextYear_Elixir</th>\n",
              "      <th>...</th>\n",
              "      <th>SocialMedia_Twitter</th>\n",
              "      <th>SocialMedia_VK ÐÐÐ¾Ð½ÑÐ°ÌÐºÑÐµ</th>\n",
              "      <th>SocialMedia_WeChat å¾®ä¿¡</th>\n",
              "      <th>SocialMedia_Weibo æ°æµªå¾®å</th>\n",
              "      <th>SocialMedia_WhatsApp</th>\n",
              "      <th>SocialMedia_YouTube</th>\n",
              "      <th>SocialMedia_Youku Tudou ä¼é·</th>\n",
              "      <th>Extraversion_In real life (in person)</th>\n",
              "      <th>Extraversion_Neither</th>\n",
              "      <th>Extraversion_Online</th>\n",
              "      <th>ScreenName_Handle</th>\n",
              "      <th>ScreenName_Login</th>\n",
              "      <th>ScreenName_Screen Name</th>\n",
              "      <th>ScreenName_UserID</th>\n",
              "      <th>ScreenName_Username</th>\n",
              "      <th>EntTeams_No, I've heard of them, but I am not part of a private Q&amp;A instance</th>\n",
              "      <th>EntTeams_No, and I don't know what those are</th>\n",
              "      <th>EntTeams_Yes</th>\n",
              "      <th>SOComm_Neutral</th>\n",
              "      <th>SOComm_No, not at all</th>\n",
              "      <th>SOComm_No, not really</th>\n",
              "      <th>SOComm_Not sure</th>\n",
              "      <th>SOComm_Yes, definitely</th>\n",
              "      <th>SOComm_Yes, somewhat</th>\n",
              "      <th>WelcomeChange_A lot less welcome now than last year</th>\n",
              "      <th>WelcomeChange_A lot more welcome now than last year</th>\n",
              "      <th>WelcomeChange_Just as welcome now as I felt last year</th>\n",
              "      <th>WelcomeChange_Not applicable - I did not use Stack Overflow last year</th>\n",
              "      <th>WelcomeChange_Somewhat less welcome now than last year</th>\n",
              "      <th>WelcomeChange_Somewhat more welcome now than last year</th>\n",
              "      <th>Trans_No</th>\n",
              "      <th>Trans_Yes</th>\n",
              "      <th>Dependents_No</th>\n",
              "      <th>Dependents_Yes</th>\n",
              "      <th>SurveyLength_Appropriate in length</th>\n",
              "      <th>SurveyLength_Too long</th>\n",
              "      <th>SurveyLength_Too short</th>\n",
              "      <th>SurveyEase_Difficult</th>\n",
              "      <th>SurveyEase_Easy</th>\n",
              "      <th>SurveyEase_Neither easy nor difficult</th>\n",
              "    </tr>\n",
              "  </thead>\n",
              "  <tbody>\n",
              "    <tr>\n",
              "      <th>0</th>\n",
              "      <td>1.0</td>\n",
              "      <td>14.0</td>\n",
              "      <td>1.0</td>\n",
              "      <td>1.0</td>\n",
              "      <td>1.0</td>\n",
              "      <td>1.0</td>\n",
              "      <td>0.0</td>\n",
              "      <td>0.0</td>\n",
              "      <td>0.0</td>\n",
              "      <td>0.0</td>\n",
              "      <td>0.0</td>\n",
              "      <td>0.0</td>\n",
              "      <td>0.0</td>\n",
              "      <td>0.0</td>\n",
              "      <td>0.0</td>\n",
              "      <td>0.0</td>\n",
              "      <td>0.0</td>\n",
              "      <td>0.0</td>\n",
              "      <td>0.0</td>\n",
              "      <td>0.0</td>\n",
              "      <td>0.0</td>\n",
              "      <td>0.0</td>\n",
              "      <td>0.0</td>\n",
              "      <td>0.0</td>\n",
              "      <td>0.0</td>\n",
              "      <td>0.0</td>\n",
              "      <td>0.0</td>\n",
              "      <td>0.0</td>\n",
              "      <td>0.0</td>\n",
              "      <td>0.0</td>\n",
              "      <td>1.0</td>\n",
              "      <td>1.0</td>\n",
              "      <td>1.0</td>\n",
              "      <td>1.0</td>\n",
              "      <td>1.0</td>\n",
              "      <td>1.0</td>\n",
              "      <td>1.0</td>\n",
              "      <td>1.0</td>\n",
              "      <td>1.0</td>\n",
              "      <td>0.0</td>\n",
              "      <td>...</td>\n",
              "      <td>1.0</td>\n",
              "      <td>0.0</td>\n",
              "      <td>0.0</td>\n",
              "      <td>0.0</td>\n",
              "      <td>0.0</td>\n",
              "      <td>0.0</td>\n",
              "      <td>0.0</td>\n",
              "      <td>0.0</td>\n",
              "      <td>0.0</td>\n",
              "      <td>1.0</td>\n",
              "      <td>0.0</td>\n",
              "      <td>0.0</td>\n",
              "      <td>0.0</td>\n",
              "      <td>0.0</td>\n",
              "      <td>1.0</td>\n",
              "      <td>0.0</td>\n",
              "      <td>1.0</td>\n",
              "      <td>0.0</td>\n",
              "      <td>1.0</td>\n",
              "      <td>0.0</td>\n",
              "      <td>0.0</td>\n",
              "      <td>0.0</td>\n",
              "      <td>0.0</td>\n",
              "      <td>0.0</td>\n",
              "      <td>0.0</td>\n",
              "      <td>0.0</td>\n",
              "      <td>1.0</td>\n",
              "      <td>0.0</td>\n",
              "      <td>0.0</td>\n",
              "      <td>0.0</td>\n",
              "      <td>1.0</td>\n",
              "      <td>0.0</td>\n",
              "      <td>1.0</td>\n",
              "      <td>0.0</td>\n",
              "      <td>1.0</td>\n",
              "      <td>0.0</td>\n",
              "      <td>0.0</td>\n",
              "      <td>0.0</td>\n",
              "      <td>0.0</td>\n",
              "      <td>1.0</td>\n",
              "    </tr>\n",
              "    <tr>\n",
              "      <th>1</th>\n",
              "      <td>2.0</td>\n",
              "      <td>19.0</td>\n",
              "      <td>1.0</td>\n",
              "      <td>0.0</td>\n",
              "      <td>0.0</td>\n",
              "      <td>1.0</td>\n",
              "      <td>1.0</td>\n",
              "      <td>0.0</td>\n",
              "      <td>0.0</td>\n",
              "      <td>0.0</td>\n",
              "      <td>0.0</td>\n",
              "      <td>0.0</td>\n",
              "      <td>0.0</td>\n",
              "      <td>0.0</td>\n",
              "      <td>0.0</td>\n",
              "      <td>0.0</td>\n",
              "      <td>0.0</td>\n",
              "      <td>0.0</td>\n",
              "      <td>0.0</td>\n",
              "      <td>0.0</td>\n",
              "      <td>0.0</td>\n",
              "      <td>0.0</td>\n",
              "      <td>0.0</td>\n",
              "      <td>0.0</td>\n",
              "      <td>0.0</td>\n",
              "      <td>0.0</td>\n",
              "      <td>0.0</td>\n",
              "      <td>0.0</td>\n",
              "      <td>0.0</td>\n",
              "      <td>0.0</td>\n",
              "      <td>0.0</td>\n",
              "      <td>1.0</td>\n",
              "      <td>0.0</td>\n",
              "      <td>0.0</td>\n",
              "      <td>1.0</td>\n",
              "      <td>0.0</td>\n",
              "      <td>1.0</td>\n",
              "      <td>0.0</td>\n",
              "      <td>1.0</td>\n",
              "      <td>0.0</td>\n",
              "      <td>...</td>\n",
              "      <td>0.0</td>\n",
              "      <td>0.0</td>\n",
              "      <td>0.0</td>\n",
              "      <td>0.0</td>\n",
              "      <td>0.0</td>\n",
              "      <td>0.0</td>\n",
              "      <td>0.0</td>\n",
              "      <td>0.0</td>\n",
              "      <td>0.0</td>\n",
              "      <td>1.0</td>\n",
              "      <td>0.0</td>\n",
              "      <td>0.0</td>\n",
              "      <td>0.0</td>\n",
              "      <td>0.0</td>\n",
              "      <td>1.0</td>\n",
              "      <td>0.0</td>\n",
              "      <td>1.0</td>\n",
              "      <td>0.0</td>\n",
              "      <td>0.0</td>\n",
              "      <td>0.0</td>\n",
              "      <td>0.0</td>\n",
              "      <td>0.0</td>\n",
              "      <td>0.0</td>\n",
              "      <td>1.0</td>\n",
              "      <td>0.0</td>\n",
              "      <td>0.0</td>\n",
              "      <td>1.0</td>\n",
              "      <td>0.0</td>\n",
              "      <td>0.0</td>\n",
              "      <td>0.0</td>\n",
              "      <td>1.0</td>\n",
              "      <td>0.0</td>\n",
              "      <td>1.0</td>\n",
              "      <td>0.0</td>\n",
              "      <td>1.0</td>\n",
              "      <td>0.0</td>\n",
              "      <td>0.0</td>\n",
              "      <td>0.0</td>\n",
              "      <td>0.0</td>\n",
              "      <td>1.0</td>\n",
              "    </tr>\n",
              "    <tr>\n",
              "      <th>2</th>\n",
              "      <td>3.0</td>\n",
              "      <td>28.0</td>\n",
              "      <td>1.0</td>\n",
              "      <td>0.0</td>\n",
              "      <td>0.0</td>\n",
              "      <td>0.0</td>\n",
              "      <td>0.0</td>\n",
              "      <td>0.0</td>\n",
              "      <td>0.0</td>\n",
              "      <td>0.0</td>\n",
              "      <td>0.0</td>\n",
              "      <td>0.0</td>\n",
              "      <td>0.0</td>\n",
              "      <td>0.0</td>\n",
              "      <td>0.0</td>\n",
              "      <td>0.0</td>\n",
              "      <td>0.0</td>\n",
              "      <td>0.0</td>\n",
              "      <td>0.0</td>\n",
              "      <td>0.0</td>\n",
              "      <td>0.0</td>\n",
              "      <td>0.0</td>\n",
              "      <td>0.0</td>\n",
              "      <td>0.0</td>\n",
              "      <td>0.0</td>\n",
              "      <td>0.0</td>\n",
              "      <td>0.0</td>\n",
              "      <td>0.0</td>\n",
              "      <td>0.0</td>\n",
              "      <td>0.0</td>\n",
              "      <td>0.0</td>\n",
              "      <td>0.0</td>\n",
              "      <td>0.0</td>\n",
              "      <td>0.0</td>\n",
              "      <td>1.0</td>\n",
              "      <td>0.0</td>\n",
              "      <td>0.0</td>\n",
              "      <td>0.0</td>\n",
              "      <td>0.0</td>\n",
              "      <td>1.0</td>\n",
              "      <td>...</td>\n",
              "      <td>0.0</td>\n",
              "      <td>0.0</td>\n",
              "      <td>0.0</td>\n",
              "      <td>0.0</td>\n",
              "      <td>0.0</td>\n",
              "      <td>0.0</td>\n",
              "      <td>0.0</td>\n",
              "      <td>1.0</td>\n",
              "      <td>0.0</td>\n",
              "      <td>0.0</td>\n",
              "      <td>0.0</td>\n",
              "      <td>0.0</td>\n",
              "      <td>0.0</td>\n",
              "      <td>0.0</td>\n",
              "      <td>1.0</td>\n",
              "      <td>1.0</td>\n",
              "      <td>0.0</td>\n",
              "      <td>0.0</td>\n",
              "      <td>1.0</td>\n",
              "      <td>0.0</td>\n",
              "      <td>0.0</td>\n",
              "      <td>0.0</td>\n",
              "      <td>0.0</td>\n",
              "      <td>0.0</td>\n",
              "      <td>0.0</td>\n",
              "      <td>0.0</td>\n",
              "      <td>1.0</td>\n",
              "      <td>0.0</td>\n",
              "      <td>0.0</td>\n",
              "      <td>0.0</td>\n",
              "      <td>1.0</td>\n",
              "      <td>0.0</td>\n",
              "      <td>0.0</td>\n",
              "      <td>1.0</td>\n",
              "      <td>1.0</td>\n",
              "      <td>0.0</td>\n",
              "      <td>0.0</td>\n",
              "      <td>0.0</td>\n",
              "      <td>0.0</td>\n",
              "      <td>1.0</td>\n",
              "    </tr>\n",
              "    <tr>\n",
              "      <th>3</th>\n",
              "      <td>4.0</td>\n",
              "      <td>22.0</td>\n",
              "      <td>0.0</td>\n",
              "      <td>0.0</td>\n",
              "      <td>0.0</td>\n",
              "      <td>1.0</td>\n",
              "      <td>1.0</td>\n",
              "      <td>1.0</td>\n",
              "      <td>1.0</td>\n",
              "      <td>1.0</td>\n",
              "      <td>0.0</td>\n",
              "      <td>0.0</td>\n",
              "      <td>0.0</td>\n",
              "      <td>0.0</td>\n",
              "      <td>0.0</td>\n",
              "      <td>0.0</td>\n",
              "      <td>0.0</td>\n",
              "      <td>0.0</td>\n",
              "      <td>0.0</td>\n",
              "      <td>0.0</td>\n",
              "      <td>0.0</td>\n",
              "      <td>0.0</td>\n",
              "      <td>0.0</td>\n",
              "      <td>0.0</td>\n",
              "      <td>0.0</td>\n",
              "      <td>0.0</td>\n",
              "      <td>0.0</td>\n",
              "      <td>0.0</td>\n",
              "      <td>0.0</td>\n",
              "      <td>0.0</td>\n",
              "      <td>1.0</td>\n",
              "      <td>0.0</td>\n",
              "      <td>1.0</td>\n",
              "      <td>0.0</td>\n",
              "      <td>0.0</td>\n",
              "      <td>0.0</td>\n",
              "      <td>1.0</td>\n",
              "      <td>0.0</td>\n",
              "      <td>1.0</td>\n",
              "      <td>0.0</td>\n",
              "      <td>...</td>\n",
              "      <td>0.0</td>\n",
              "      <td>0.0</td>\n",
              "      <td>0.0</td>\n",
              "      <td>0.0</td>\n",
              "      <td>0.0</td>\n",
              "      <td>0.0</td>\n",
              "      <td>0.0</td>\n",
              "      <td>1.0</td>\n",
              "      <td>0.0</td>\n",
              "      <td>0.0</td>\n",
              "      <td>0.0</td>\n",
              "      <td>0.0</td>\n",
              "      <td>0.0</td>\n",
              "      <td>0.0</td>\n",
              "      <td>1.0</td>\n",
              "      <td>0.0</td>\n",
              "      <td>1.0</td>\n",
              "      <td>0.0</td>\n",
              "      <td>0.0</td>\n",
              "      <td>0.0</td>\n",
              "      <td>1.0</td>\n",
              "      <td>0.0</td>\n",
              "      <td>0.0</td>\n",
              "      <td>0.0</td>\n",
              "      <td>0.0</td>\n",
              "      <td>0.0</td>\n",
              "      <td>1.0</td>\n",
              "      <td>0.0</td>\n",
              "      <td>0.0</td>\n",
              "      <td>0.0</td>\n",
              "      <td>1.0</td>\n",
              "      <td>0.0</td>\n",
              "      <td>1.0</td>\n",
              "      <td>0.0</td>\n",
              "      <td>1.0</td>\n",
              "      <td>0.0</td>\n",
              "      <td>0.0</td>\n",
              "      <td>0.0</td>\n",
              "      <td>1.0</td>\n",
              "      <td>0.0</td>\n",
              "    </tr>\n",
              "    <tr>\n",
              "      <th>4</th>\n",
              "      <td>5.0</td>\n",
              "      <td>30.0</td>\n",
              "      <td>1.0</td>\n",
              "      <td>1.0</td>\n",
              "      <td>1.0</td>\n",
              "      <td>1.0</td>\n",
              "      <td>1.0</td>\n",
              "      <td>0.0</td>\n",
              "      <td>0.0</td>\n",
              "      <td>1.0</td>\n",
              "      <td>1.0</td>\n",
              "      <td>0.0</td>\n",
              "      <td>0.0</td>\n",
              "      <td>0.0</td>\n",
              "      <td>0.0</td>\n",
              "      <td>0.0</td>\n",
              "      <td>0.0</td>\n",
              "      <td>0.0</td>\n",
              "      <td>0.0</td>\n",
              "      <td>0.0</td>\n",
              "      <td>0.0</td>\n",
              "      <td>0.0</td>\n",
              "      <td>0.0</td>\n",
              "      <td>0.0</td>\n",
              "      <td>0.0</td>\n",
              "      <td>0.0</td>\n",
              "      <td>0.0</td>\n",
              "      <td>0.0</td>\n",
              "      <td>0.0</td>\n",
              "      <td>0.0</td>\n",
              "      <td>0.0</td>\n",
              "      <td>0.0</td>\n",
              "      <td>0.0</td>\n",
              "      <td>0.0</td>\n",
              "      <td>1.0</td>\n",
              "      <td>1.0</td>\n",
              "      <td>1.0</td>\n",
              "      <td>0.0</td>\n",
              "      <td>1.0</td>\n",
              "      <td>0.0</td>\n",
              "      <td>...</td>\n",
              "      <td>0.0</td>\n",
              "      <td>0.0</td>\n",
              "      <td>0.0</td>\n",
              "      <td>0.0</td>\n",
              "      <td>0.0</td>\n",
              "      <td>0.0</td>\n",
              "      <td>0.0</td>\n",
              "      <td>1.0</td>\n",
              "      <td>0.0</td>\n",
              "      <td>0.0</td>\n",
              "      <td>0.0</td>\n",
              "      <td>0.0</td>\n",
              "      <td>0.0</td>\n",
              "      <td>0.0</td>\n",
              "      <td>1.0</td>\n",
              "      <td>1.0</td>\n",
              "      <td>0.0</td>\n",
              "      <td>0.0</td>\n",
              "      <td>0.0</td>\n",
              "      <td>0.0</td>\n",
              "      <td>0.0</td>\n",
              "      <td>0.0</td>\n",
              "      <td>1.0</td>\n",
              "      <td>0.0</td>\n",
              "      <td>0.0</td>\n",
              "      <td>0.0</td>\n",
              "      <td>1.0</td>\n",
              "      <td>0.0</td>\n",
              "      <td>0.0</td>\n",
              "      <td>0.0</td>\n",
              "      <td>1.0</td>\n",
              "      <td>0.0</td>\n",
              "      <td>1.0</td>\n",
              "      <td>0.0</td>\n",
              "      <td>1.0</td>\n",
              "      <td>0.0</td>\n",
              "      <td>0.0</td>\n",
              "      <td>0.0</td>\n",
              "      <td>1.0</td>\n",
              "      <td>0.0</td>\n",
              "    </tr>\n",
              "  </tbody>\n",
              "</table>\n",
              "<p>5 rows × 987 columns</p>\n",
              "</div>"
            ],
            "text/plain": [
              "   Respondent   Age  ...  SurveyEase_Easy  SurveyEase_Neither easy nor difficult\n",
              "0         1.0  14.0  ...              0.0                                    1.0\n",
              "1         2.0  19.0  ...              0.0                                    1.0\n",
              "2         3.0  28.0  ...              0.0                                    1.0\n",
              "3         4.0  22.0  ...              1.0                                    0.0\n",
              "4         5.0  30.0  ...              1.0                                    0.0\n",
              "\n",
              "[5 rows x 987 columns]"
            ]
          },
          "metadata": {
            "tags": []
          },
          "execution_count": 33
        }
      ]
    },
    {
      "cell_type": "markdown",
      "metadata": {
        "id": "U7ltaAjuqaj8",
        "colab_type": "text"
      },
      "source": [
        "## Modeling\n",
        "\n",
        "Before applying the Decision Tree classifier, we split the data in a training and test set. The whole set has about 88k rows in no particular order. Use the first 10k as the testing set.\n",
        "\n",
        "Export the trees as Graphviz (dot) files. We will render them outside this notebook for inspection.\n",
        "Only print the accuracy score to see how well these trees perform.\n",
        "\n",
        "Note that we are using a very low depth of 3. This is done for two reasons. First, we want a quick explanation of this model. Its main use is a quick exploration. Second, decision trees are prone to overfitting, which can be avoided by using a low depth.\n",
        "\n",
        "Some columns should be excluded from this analysis. These are:\n",
        "\n",
        "* `LanguageWorkedWith` answers our question. Also, languages can be closely related. For example, the usage of JavaScript correlates to the usage of HTML.\n",
        "* `LanguageDesireNextYear` is likely to contain the language someone is currently using.\n",
        "* `DatabaseWorkedWith` will tell if someone is using a database. And if so, the respondent is likely to use SQL. But this does not answer our question well.\n",
        "* `DevEnviron` contains the development environment someone is using. Many environments are associated with a specific language. Examples are PyCharm and Jypiter for Python.\n",
        "* `DevType` because database administrator and frontend developer correlates highly with SQL and JavaScript respectively.\n",
        "* `PlatformWorkedWith` includes platforms that are highly aimed at specific languages.\n",
        "* `PlatformDesireNextYear` for the same reasons."
      ]
    },
    {
      "cell_type": "code",
      "metadata": {
        "id": "rGLjCgL2qxrH",
        "colab_type": "code",
        "outputId": "d4c0a664-5f4d-4914-bb61-31ad652c5034",
        "colab": {
          "base_uri": "https://localhost:8080/",
          "height": 72
        }
      },
      "source": [
        "def classify_language(lang):\n",
        "  # Build a list of features to test for.\n",
        "  features = list(filter(lambda value : value.split('_')[0] not in ['LanguageWorkedWith', 'LanguageDesireNextYear', 'DatabaseWorkedWith', 'DevEnviron', 'DevType', 'PlatformWorkedWith', 'PlatformDesireNextYear'], list(df_clean.columns)))\n",
        "\n",
        "  # Split test and training set.\n",
        "  X_train = df_clean.iloc[10000:,:][features]\n",
        "  X_test = df_clean.iloc[:10000,:][features]\n",
        "  y_train = df_clean.iloc[10000:,][['LanguageWorkedWith_' + lang]]\n",
        "  y_test = df_clean.iloc[:10000,][['LanguageWorkedWith_' + lang]]\n",
        "\n",
        "  # Fit decision tree.\n",
        "  clf = DecisionTreeClassifier(random_state=2019, max_depth=3)\n",
        "  clf.fit(X_train, y_train)\n",
        "\n",
        "  # Check accuracy.\n",
        "  pred = clf.predict(X_test)\n",
        "  print('Accuracy for {}: {}'.format(lang, accuracy_score(y_test, pred)))\n",
        "\n",
        "  # Save graph.\n",
        "  tree.export_graphviz(clf, out_file=root_path + '/using_' + lang + '.dot', feature_names=features)\n",
        "\n",
        "classify_language('JavaScript')\n",
        "classify_language('SQL')\n",
        "classify_language('Python')\n",
        "  "
      ],
      "execution_count": 0,
      "outputs": [
        {
          "output_type": "stream",
          "text": [
            "Accuracy for JavaScript: 0.6915\n",
            "Accuracy for SQL: 0.5805\n",
            "Accuracy for Python: 0.6329\n"
          ],
          "name": "stdout"
        }
      ]
    },
    {
      "cell_type": "markdown",
      "metadata": {
        "id": "Rj09GnBfZFxt",
        "colab_type": "text"
      },
      "source": [
        "## Evaluation\n",
        "\n",
        "The generated trees give an idea of who is using these languages. It contains enough specific details."
      ]
    },
    {
      "cell_type": "markdown",
      "metadata": {
        "id": "MwecVg0w4I35",
        "colab_type": "text"
      },
      "source": [
        "# Do programming languages start as a hobby language and get used by professionals later?\n",
        "\n",
        "Recent surveys ask if the respondent is coding as a hobby.\n",
        "2015 and 2016 ask for hours per week coding as a hobby. From 2017 on, this has been changed to a yes/no question. It is unknown if people who answered 1 hour per week in 2016 consider themselve a hobby coder when answered as a yes/no question. These results are not directly comparable. For that reason, we only compare 2017 and 2019."
      ]
    },
    {
      "cell_type": "markdown",
      "metadata": {
        "id": "aDcl2yPcsjLl",
        "colab_type": "text"
      },
      "source": [
        "## Data preparation\n",
        "\n",
        "Build a table that lists the hobby usage in 2017 and 2019, per language. We are interested in the hobby usage relative to the total usage of that language. For example, if 40 out of 80 respondents is using PHP, and 30 out of that 40 is coding as a hobby, then the hobby usage is 75%, or 0.75."
      ]
    },
    {
      "cell_type": "code",
      "metadata": {
        "id": "EFlvDRDrwdmv",
        "colab_type": "code",
        "outputId": "dac5c6a3-d584-4107-9512-101864887343",
        "colab": {
          "base_uri": "https://localhost:8080/",
          "height": 206
        }
      },
      "source": [
        "hobbyists = {}\n",
        "counts_hobby = {}\n",
        "\n",
        "# Filter out the hobbyists, per year.\n",
        "hobbyists[2017] = df[2017][df[2017].ProgramHobby != 'No']\n",
        "hobbyists[2019] = df[2019][df[2019].Hobbyist == 'Yes']\n",
        "\n",
        "# Build the dataframe.\n",
        "usage_hobby = pd.DataFrame(index=languages, columns=[2017, 2019], dtype=np.float)\n",
        "\n",
        "for year in [2017, 2019]:\n",
        "  counts_hobby = get_counts_multiple(hobbyists[year].reset_index(drop=True))\n",
        "  for lang in languages:\n",
        "    if lang in counts_hobby:\n",
        "      num_hobbyists = counts_hobby[lang] * hobbyists[year].shape[0]\n",
        "      num_total = usage[lang][year] * df[year].shape[0]\n",
        "      usage_hobby[year][lang] = num_hobbyists / num_total\n",
        "\n",
        "# Drop languages that were not included in any of the years.\n",
        "usage_hobby = usage_hobby.dropna()\n",
        "\n",
        "usage_hobby.head()"
      ],
      "execution_count": 0,
      "outputs": [
        {
          "output_type": "execute_result",
          "data": {
            "text/html": [
              "<div>\n",
              "<style scoped>\n",
              "    .dataframe tbody tr th:only-of-type {\n",
              "        vertical-align: middle;\n",
              "    }\n",
              "\n",
              "    .dataframe tbody tr th {\n",
              "        vertical-align: top;\n",
              "    }\n",
              "\n",
              "    .dataframe thead th {\n",
              "        text-align: right;\n",
              "    }\n",
              "</style>\n",
              "<table border=\"1\" class=\"dataframe\">\n",
              "  <thead>\n",
              "    <tr style=\"text-align: right;\">\n",
              "      <th></th>\n",
              "      <th>2017</th>\n",
              "      <th>2019</th>\n",
              "    </tr>\n",
              "  </thead>\n",
              "  <tbody>\n",
              "    <tr>\n",
              "      <th>Java</th>\n",
              "      <td>0.837235</td>\n",
              "      <td>0.817625</td>\n",
              "    </tr>\n",
              "    <tr>\n",
              "      <th>JavaScript</th>\n",
              "      <td>0.839825</td>\n",
              "      <td>0.817997</td>\n",
              "    </tr>\n",
              "    <tr>\n",
              "      <th>Python</th>\n",
              "      <td>0.887987</td>\n",
              "      <td>0.852126</td>\n",
              "    </tr>\n",
              "    <tr>\n",
              "      <th>C++</th>\n",
              "      <td>0.869405</td>\n",
              "      <td>0.856499</td>\n",
              "    </tr>\n",
              "    <tr>\n",
              "      <th>C</th>\n",
              "      <td>0.883998</td>\n",
              "      <td>0.860892</td>\n",
              "    </tr>\n",
              "  </tbody>\n",
              "</table>\n",
              "</div>"
            ],
            "text/plain": [
              "                2017      2019\n",
              "Java        0.837235  0.817625\n",
              "JavaScript  0.839825  0.817997\n",
              "Python      0.887987  0.852126\n",
              "C++         0.869405  0.856499\n",
              "C           0.883998  0.860892"
            ]
          },
          "metadata": {
            "tags": []
          },
          "execution_count": 35
        }
      ]
    },
    {
      "cell_type": "markdown",
      "metadata": {
        "id": "3qwhaovatjD1",
        "colab_type": "text"
      },
      "source": [
        "## Modeling\n",
        "\n",
        "We have to calculate the change, per language. Simply subtract the numbers to get the change in absolute percentage and add it to the dataframe."
      ]
    },
    {
      "cell_type": "code",
      "metadata": {
        "id": "IrSNvq_PtcT_",
        "colab_type": "code",
        "outputId": "cd3d0493-69fc-4815-b2d4-54fba4624a60",
        "colab": {
          "base_uri": "https://localhost:8080/",
          "height": 300
        }
      },
      "source": [
        "usage_hobby = usage_hobby.assign(change=usage_hobby[2019] - usage_hobby[2017])\n",
        "\n",
        "usage_hobby.describe()"
      ],
      "execution_count": 0,
      "outputs": [
        {
          "output_type": "execute_result",
          "data": {
            "text/html": [
              "<div>\n",
              "<style scoped>\n",
              "    .dataframe tbody tr th:only-of-type {\n",
              "        vertical-align: middle;\n",
              "    }\n",
              "\n",
              "    .dataframe tbody tr th {\n",
              "        vertical-align: top;\n",
              "    }\n",
              "\n",
              "    .dataframe thead th {\n",
              "        text-align: right;\n",
              "    }\n",
              "</style>\n",
              "<table border=\"1\" class=\"dataframe\">\n",
              "  <thead>\n",
              "    <tr style=\"text-align: right;\">\n",
              "      <th></th>\n",
              "      <th>2017</th>\n",
              "      <th>2019</th>\n",
              "      <th>change</th>\n",
              "    </tr>\n",
              "  </thead>\n",
              "  <tbody>\n",
              "    <tr>\n",
              "      <th>count</th>\n",
              "      <td>23.000000</td>\n",
              "      <td>23.000000</td>\n",
              "      <td>23.000000</td>\n",
              "    </tr>\n",
              "    <tr>\n",
              "      <th>mean</th>\n",
              "      <td>0.885398</td>\n",
              "      <td>0.852732</td>\n",
              "      <td>-0.032666</td>\n",
              "    </tr>\n",
              "    <tr>\n",
              "      <th>std</th>\n",
              "      <td>0.047801</td>\n",
              "      <td>0.038264</td>\n",
              "      <td>0.018881</td>\n",
              "    </tr>\n",
              "    <tr>\n",
              "      <th>min</th>\n",
              "      <td>0.795426</td>\n",
              "      <td>0.800549</td>\n",
              "      <td>-0.063437</td>\n",
              "    </tr>\n",
              "    <tr>\n",
              "      <th>25%</th>\n",
              "      <td>0.857366</td>\n",
              "      <td>0.823270</td>\n",
              "      <td>-0.046425</td>\n",
              "    </tr>\n",
              "    <tr>\n",
              "      <th>50%</th>\n",
              "      <td>0.882353</td>\n",
              "      <td>0.850484</td>\n",
              "      <td>-0.035394</td>\n",
              "    </tr>\n",
              "    <tr>\n",
              "      <th>75%</th>\n",
              "      <td>0.932713</td>\n",
              "      <td>0.878868</td>\n",
              "      <td>-0.022015</td>\n",
              "    </tr>\n",
              "    <tr>\n",
              "      <th>max</th>\n",
              "      <td>0.980769</td>\n",
              "      <td>0.958568</td>\n",
              "      <td>0.009120</td>\n",
              "    </tr>\n",
              "  </tbody>\n",
              "</table>\n",
              "</div>"
            ],
            "text/plain": [
              "            2017       2019     change\n",
              "count  23.000000  23.000000  23.000000\n",
              "mean    0.885398   0.852732  -0.032666\n",
              "std     0.047801   0.038264   0.018881\n",
              "min     0.795426   0.800549  -0.063437\n",
              "25%     0.857366   0.823270  -0.046425\n",
              "50%     0.882353   0.850484  -0.035394\n",
              "75%     0.932713   0.878868  -0.022015\n",
              "max     0.980769   0.958568   0.009120"
            ]
          },
          "metadata": {
            "tags": []
          },
          "execution_count": 36
        }
      ]
    },
    {
      "cell_type": "markdown",
      "metadata": {
        "id": "eARjPeCCt0uJ",
        "colab_type": "text"
      },
      "source": [
        "From the summary, we can already see a difference in the means. In 2017, 88.5% of the coders for any particular language code as hobby. This number drops to 85.0% two years later, in 2019. Less hobby coders means more professional coders. We can plot these results in a histogram of the `changed` column.\n",
        "\n",
        "Its significance has to be examined using a t-test. We use a paired t-test since it considers samples of the same language."
      ]
    },
    {
      "cell_type": "code",
      "metadata": {
        "id": "rHnoRE8E9LLf",
        "colab_type": "code",
        "outputId": "019f7668-ff08-4592-d118-f33c887b52bb",
        "colab": {
          "base_uri": "https://localhost:8080/",
          "height": 301
        }
      },
      "source": [
        "# Plot the histogram.\n",
        "sns.distplot(pd.Series(usage_hobby.change * 100, name=\"Change\"))\n",
        "\n",
        "# Print t-test results.\n",
        "t, p = stats.ttest_rel(list(usage_hobby[2017]), list(usage_hobby[2019]))\n",
        "print('T-score: {}, p-score: {}, n: {}'.format(t, p, usage_hobby.shape[0]))"
      ],
      "execution_count": 0,
      "outputs": [
        {
          "output_type": "stream",
          "text": [
            "T-score: 8.297105769443172, p-score: 3.2054763114718336e-08, n: 23\n"
          ],
          "name": "stdout"
        },
        {
          "output_type": "display_data",
          "data": {
            "image/png": "[encoded data removed]",
            "text/plain": [
              "<Figure size 432x288 with 1 Axes>"
            ]
          },
          "metadata": {
            "tags": []
          }
        }
      ]
    },
    {
      "cell_type": "markdown",
      "metadata": {
        "id": "mzjq4c3BvJbo",
        "colab_type": "text"
      },
      "source": [
        "## Evaluation\n",
        "$p < 0.01$, which means that this is a statistically significant difference. Therefore, we can claim that languages tend to get used more by professionals later. But this analysis is limited to languages that are already popular, and hence does not consider its early years.\n",
        "\n",
        "These figures clearly answer the question."
      ]
    },
    {
      "cell_type": "markdown",
      "metadata": {
        "id": "zKBShMpAl8Z8",
        "colab_type": "text"
      },
      "source": [
        "# Deployment\n",
        "\n",
        "Key findings from this analysis are used in a [blog post](https://medium.com/@maurits_94643/what-programming-language-do-you-use-in-2022-d083b2cafbd9)."
      ]
    }
  ]
}